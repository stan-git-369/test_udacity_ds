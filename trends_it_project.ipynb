{
 "cells": [
  {
   "cell_type": "markdown",
   "metadata": {},
   "source": [
    "# IT Market trends"
   ]
  },
  {
   "cell_type": "markdown",
   "metadata": {},
   "source": [
    "## Project definition"
   ]
  },
  {
   "cell_type": "markdown",
   "metadata": {},
   "source": [
    "For this project, I was interestested in using Stack Overflow survey data from 2017 to 2020 to better understand:\n",
    "\n",
    "### 1. Can we predict the job satisfaction?\n",
    "### 2. What factors are most important to job satisfaction?\n",
    "### 3. Tendencies and trends on IT developing market, most popular languages and platforms?"
   ]
  },
  {
   "cell_type": "code",
   "execution_count": 26,
   "metadata": {},
   "outputs": [],
   "source": [
    "# import libraries\n",
    "import numpy as np\n",
    "import pandas as pd\n",
    "import matplotlib.pyplot as plt\n",
    "from sklearn.model_selection import train_test_split\n",
    "from sklearn.metrics import r2_score, mean_squared_error\n",
    "import seaborn as sns\n",
    "from sklearn.metrics import f1_score\n",
    "from sklearn.tree import DecisionTreeClassifier\n",
    "from sklearn.ensemble import RandomForestClassifier\n",
    "from sklearn.svm import LinearSVC"
   ]
  },
  {
   "cell_type": "code",
   "execution_count": 27,
   "metadata": {},
   "outputs": [],
   "source": [
    "pd.set_option('display.max_colwidth', None)"
   ]
  },
  {
   "cell_type": "markdown",
   "metadata": {},
   "source": [
    "### Data exploration and data analysis"
   ]
  },
  {
   "cell_type": "markdown",
   "metadata": {},
   "source": [
    "Remark: all files with the initial data you can find here:\n",
    "https://insights.stackoverflow.com/survey\n",
    "I used local copies of all files."
   ]
  },
  {
   "cell_type": "markdown",
   "metadata": {},
   "source": [
    "#### Read and explore the survey data from 2017 till 2020"
   ]
  },
  {
   "cell_type": "code",
   "execution_count": 28,
   "metadata": {},
   "outputs": [
    {
     "name": "stdout",
     "output_type": "stream",
     "text": [
      "(51392, 154)\n"
     ]
    },
    {
     "data": {
      "text/html": [
       "<div>\n",
       "<style scoped>\n",
       "    .dataframe tbody tr th:only-of-type {\n",
       "        vertical-align: middle;\n",
       "    }\n",
       "\n",
       "    .dataframe tbody tr th {\n",
       "        vertical-align: top;\n",
       "    }\n",
       "\n",
       "    .dataframe thead th {\n",
       "        text-align: right;\n",
       "    }\n",
       "</style>\n",
       "<table border=\"1\" class=\"dataframe\">\n",
       "  <thead>\n",
       "    <tr style=\"text-align: right;\">\n",
       "      <th></th>\n",
       "      <th>Respondent</th>\n",
       "      <th>Professional</th>\n",
       "      <th>ProgramHobby</th>\n",
       "      <th>Country</th>\n",
       "      <th>University</th>\n",
       "      <th>EmploymentStatus</th>\n",
       "      <th>FormalEducation</th>\n",
       "      <th>MajorUndergrad</th>\n",
       "      <th>HomeRemote</th>\n",
       "      <th>CompanySize</th>\n",
       "      <th>...</th>\n",
       "      <th>StackOverflowMakeMoney</th>\n",
       "      <th>Gender</th>\n",
       "      <th>HighestEducationParents</th>\n",
       "      <th>Race</th>\n",
       "      <th>SurveyLong</th>\n",
       "      <th>QuestionsInteresting</th>\n",
       "      <th>QuestionsConfusing</th>\n",
       "      <th>InterestedAnswers</th>\n",
       "      <th>Salary</th>\n",
       "      <th>ExpectedSalary</th>\n",
       "    </tr>\n",
       "  </thead>\n",
       "  <tbody>\n",
       "    <tr>\n",
       "      <th>0</th>\n",
       "      <td>1</td>\n",
       "      <td>Student</td>\n",
       "      <td>Yes, both</td>\n",
       "      <td>United States</td>\n",
       "      <td>No</td>\n",
       "      <td>Not employed, and not looking for work</td>\n",
       "      <td>Secondary school</td>\n",
       "      <td>NaN</td>\n",
       "      <td>NaN</td>\n",
       "      <td>NaN</td>\n",
       "      <td>...</td>\n",
       "      <td>Strongly disagree</td>\n",
       "      <td>Male</td>\n",
       "      <td>High school</td>\n",
       "      <td>White or of European descent</td>\n",
       "      <td>Strongly disagree</td>\n",
       "      <td>Strongly agree</td>\n",
       "      <td>Disagree</td>\n",
       "      <td>Strongly agree</td>\n",
       "      <td>NaN</td>\n",
       "      <td>NaN</td>\n",
       "    </tr>\n",
       "    <tr>\n",
       "      <th>1</th>\n",
       "      <td>2</td>\n",
       "      <td>Student</td>\n",
       "      <td>Yes, both</td>\n",
       "      <td>United Kingdom</td>\n",
       "      <td>Yes, full-time</td>\n",
       "      <td>Employed part-time</td>\n",
       "      <td>Some college/university study without earning a bachelor's degree</td>\n",
       "      <td>Computer science or software engineering</td>\n",
       "      <td>More than half, but not all, the time</td>\n",
       "      <td>20 to 99 employees</td>\n",
       "      <td>...</td>\n",
       "      <td>Strongly disagree</td>\n",
       "      <td>Male</td>\n",
       "      <td>A master's degree</td>\n",
       "      <td>White or of European descent</td>\n",
       "      <td>Somewhat agree</td>\n",
       "      <td>Somewhat agree</td>\n",
       "      <td>Disagree</td>\n",
       "      <td>Strongly agree</td>\n",
       "      <td>NaN</td>\n",
       "      <td>37500.0</td>\n",
       "    </tr>\n",
       "    <tr>\n",
       "      <th>2</th>\n",
       "      <td>3</td>\n",
       "      <td>Professional developer</td>\n",
       "      <td>Yes, both</td>\n",
       "      <td>United Kingdom</td>\n",
       "      <td>No</td>\n",
       "      <td>Employed full-time</td>\n",
       "      <td>Bachelor's degree</td>\n",
       "      <td>Computer science or software engineering</td>\n",
       "      <td>Less than half the time, but at least one day each week</td>\n",
       "      <td>10,000 or more employees</td>\n",
       "      <td>...</td>\n",
       "      <td>Disagree</td>\n",
       "      <td>Male</td>\n",
       "      <td>A professional degree</td>\n",
       "      <td>White or of European descent</td>\n",
       "      <td>Somewhat agree</td>\n",
       "      <td>Agree</td>\n",
       "      <td>Disagree</td>\n",
       "      <td>Agree</td>\n",
       "      <td>113750.0</td>\n",
       "      <td>NaN</td>\n",
       "    </tr>\n",
       "    <tr>\n",
       "      <th>3</th>\n",
       "      <td>4</td>\n",
       "      <td>Professional non-developer who sometimes writes code</td>\n",
       "      <td>Yes, both</td>\n",
       "      <td>United States</td>\n",
       "      <td>No</td>\n",
       "      <td>Employed full-time</td>\n",
       "      <td>Doctoral degree</td>\n",
       "      <td>A non-computer-focused engineering discipline</td>\n",
       "      <td>Less than half the time, but at least one day each week</td>\n",
       "      <td>10,000 or more employees</td>\n",
       "      <td>...</td>\n",
       "      <td>Disagree</td>\n",
       "      <td>Male</td>\n",
       "      <td>A doctoral degree</td>\n",
       "      <td>White or of European descent</td>\n",
       "      <td>Agree</td>\n",
       "      <td>Agree</td>\n",
       "      <td>Somewhat agree</td>\n",
       "      <td>Strongly agree</td>\n",
       "      <td>NaN</td>\n",
       "      <td>NaN</td>\n",
       "    </tr>\n",
       "    <tr>\n",
       "      <th>4</th>\n",
       "      <td>5</td>\n",
       "      <td>Professional developer</td>\n",
       "      <td>Yes, I program as a hobby</td>\n",
       "      <td>Switzerland</td>\n",
       "      <td>No</td>\n",
       "      <td>Employed full-time</td>\n",
       "      <td>Master's degree</td>\n",
       "      <td>Computer science or software engineering</td>\n",
       "      <td>Never</td>\n",
       "      <td>10 to 19 employees</td>\n",
       "      <td>...</td>\n",
       "      <td>NaN</td>\n",
       "      <td>NaN</td>\n",
       "      <td>NaN</td>\n",
       "      <td>NaN</td>\n",
       "      <td>NaN</td>\n",
       "      <td>NaN</td>\n",
       "      <td>NaN</td>\n",
       "      <td>NaN</td>\n",
       "      <td>NaN</td>\n",
       "      <td>NaN</td>\n",
       "    </tr>\n",
       "  </tbody>\n",
       "</table>\n",
       "<p>5 rows × 154 columns</p>\n",
       "</div>"
      ],
      "text/plain": [
       "   Respondent                                          Professional  \\\n",
       "0           1                                               Student   \n",
       "1           2                                               Student   \n",
       "2           3                                Professional developer   \n",
       "3           4  Professional non-developer who sometimes writes code   \n",
       "4           5                                Professional developer   \n",
       "\n",
       "                ProgramHobby         Country      University  \\\n",
       "0                  Yes, both   United States              No   \n",
       "1                  Yes, both  United Kingdom  Yes, full-time   \n",
       "2                  Yes, both  United Kingdom              No   \n",
       "3                  Yes, both   United States              No   \n",
       "4  Yes, I program as a hobby     Switzerland              No   \n",
       "\n",
       "                         EmploymentStatus  \\\n",
       "0  Not employed, and not looking for work   \n",
       "1                      Employed part-time   \n",
       "2                      Employed full-time   \n",
       "3                      Employed full-time   \n",
       "4                      Employed full-time   \n",
       "\n",
       "                                                     FormalEducation  \\\n",
       "0                                                   Secondary school   \n",
       "1  Some college/university study without earning a bachelor's degree   \n",
       "2                                                  Bachelor's degree   \n",
       "3                                                    Doctoral degree   \n",
       "4                                                    Master's degree   \n",
       "\n",
       "                                  MajorUndergrad  \\\n",
       "0                                            NaN   \n",
       "1       Computer science or software engineering   \n",
       "2       Computer science or software engineering   \n",
       "3  A non-computer-focused engineering discipline   \n",
       "4       Computer science or software engineering   \n",
       "\n",
       "                                                HomeRemote  \\\n",
       "0                                                      NaN   \n",
       "1                    More than half, but not all, the time   \n",
       "2  Less than half the time, but at least one day each week   \n",
       "3  Less than half the time, but at least one day each week   \n",
       "4                                                    Never   \n",
       "\n",
       "                CompanySize  ... StackOverflowMakeMoney Gender  \\\n",
       "0                       NaN  ...      Strongly disagree   Male   \n",
       "1        20 to 99 employees  ...      Strongly disagree   Male   \n",
       "2  10,000 or more employees  ...               Disagree   Male   \n",
       "3  10,000 or more employees  ...               Disagree   Male   \n",
       "4        10 to 19 employees  ...                    NaN    NaN   \n",
       "\n",
       "  HighestEducationParents                          Race         SurveyLong  \\\n",
       "0             High school  White or of European descent  Strongly disagree   \n",
       "1       A master's degree  White or of European descent     Somewhat agree   \n",
       "2   A professional degree  White or of European descent     Somewhat agree   \n",
       "3       A doctoral degree  White or of European descent              Agree   \n",
       "4                     NaN                           NaN                NaN   \n",
       "\n",
       "  QuestionsInteresting QuestionsConfusing InterestedAnswers    Salary  \\\n",
       "0       Strongly agree           Disagree    Strongly agree       NaN   \n",
       "1       Somewhat agree           Disagree    Strongly agree       NaN   \n",
       "2                Agree           Disagree             Agree  113750.0   \n",
       "3                Agree     Somewhat agree    Strongly agree       NaN   \n",
       "4                  NaN                NaN               NaN       NaN   \n",
       "\n",
       "   ExpectedSalary  \n",
       "0             NaN  \n",
       "1         37500.0  \n",
       "2             NaN  \n",
       "3             NaN  \n",
       "4             NaN  \n",
       "\n",
       "[5 rows x 154 columns]"
      ]
     },
     "execution_count": 28,
     "metadata": {},
     "output_type": "execute_result"
    }
   ],
   "source": [
    "# read the data 2017\n",
    "df = pd.read_csv(\"C:\\\\Users\\\\qxz2f4p\\\\Documents\\\\git_dir\\\\Data_source\\\\2017_survey_results_public.csv\")\n",
    "print(df.shape)\n",
    "df.head()"
   ]
  },
  {
   "cell_type": "code",
   "execution_count": 29,
   "metadata": {},
   "outputs": [
    {
     "data": {
      "text/plain": [
       "Index(['Respondent', 'Professional', 'ProgramHobby', 'Country', 'University',\n",
       "       'EmploymentStatus', 'FormalEducation', 'MajorUndergrad', 'HomeRemote',\n",
       "       'CompanySize',\n",
       "       ...\n",
       "       'StackOverflowMakeMoney', 'Gender', 'HighestEducationParents', 'Race',\n",
       "       'SurveyLong', 'QuestionsInteresting', 'QuestionsConfusing',\n",
       "       'InterestedAnswers', 'Salary', 'ExpectedSalary'],\n",
       "      dtype='object', length=154)"
      ]
     },
     "execution_count": 29,
     "metadata": {},
     "output_type": "execute_result"
    }
   ],
   "source": [
    "df.columns"
   ]
  },
  {
   "cell_type": "code",
   "execution_count": 30,
   "metadata": {},
   "outputs": [
    {
     "name": "stderr",
     "output_type": "stream",
     "text": [
      "C:\\ProgramData\\Anaconda3\\lib\\site-packages\\IPython\\core\\interactiveshell.py:3146: DtypeWarning: Columns (8,12,13,14,15,16,50,51,52,53,55,56,57,58,59,60,61,62,63,64,65,66,67,68,69,70,71,72,73,74,75,76,77,78,79,80,81,82,83,84,85,93,94,95,96,97,98,99,100,101,102,103,104,105,106,107,108,109,110,111,112,113,114,115,116,117,118,119,120,121,122,123,124,125,126,127,128) have mixed types.Specify dtype option on import or set low_memory=False.\n",
      "  has_raised = await self.run_ast_nodes(code_ast.body, cell_name,\n"
     ]
    },
    {
     "name": "stdout",
     "output_type": "stream",
     "text": [
      "(98855, 129)\n"
     ]
    },
    {
     "data": {
      "text/html": [
       "<div>\n",
       "<style scoped>\n",
       "    .dataframe tbody tr th:only-of-type {\n",
       "        vertical-align: middle;\n",
       "    }\n",
       "\n",
       "    .dataframe tbody tr th {\n",
       "        vertical-align: top;\n",
       "    }\n",
       "\n",
       "    .dataframe thead th {\n",
       "        text-align: right;\n",
       "    }\n",
       "</style>\n",
       "<table border=\"1\" class=\"dataframe\">\n",
       "  <thead>\n",
       "    <tr style=\"text-align: right;\">\n",
       "      <th></th>\n",
       "      <th>Respondent</th>\n",
       "      <th>Hobby</th>\n",
       "      <th>OpenSource</th>\n",
       "      <th>Country</th>\n",
       "      <th>Student</th>\n",
       "      <th>Employment</th>\n",
       "      <th>FormalEducation</th>\n",
       "      <th>UndergradMajor</th>\n",
       "      <th>CompanySize</th>\n",
       "      <th>DevType</th>\n",
       "      <th>...</th>\n",
       "      <th>Exercise</th>\n",
       "      <th>Gender</th>\n",
       "      <th>SexualOrientation</th>\n",
       "      <th>EducationParents</th>\n",
       "      <th>RaceEthnicity</th>\n",
       "      <th>Age</th>\n",
       "      <th>Dependents</th>\n",
       "      <th>MilitaryUS</th>\n",
       "      <th>SurveyTooLong</th>\n",
       "      <th>SurveyEasy</th>\n",
       "    </tr>\n",
       "  </thead>\n",
       "  <tbody>\n",
       "    <tr>\n",
       "      <th>0</th>\n",
       "      <td>1</td>\n",
       "      <td>Yes</td>\n",
       "      <td>No</td>\n",
       "      <td>Kenya</td>\n",
       "      <td>No</td>\n",
       "      <td>Employed part-time</td>\n",
       "      <td>Bachelor’s degree (BA, BS, B.Eng., etc.)</td>\n",
       "      <td>Mathematics or statistics</td>\n",
       "      <td>20 to 99 employees</td>\n",
       "      <td>Full-stack developer</td>\n",
       "      <td>...</td>\n",
       "      <td>3 - 4 times per week</td>\n",
       "      <td>Male</td>\n",
       "      <td>Straight or heterosexual</td>\n",
       "      <td>Bachelor’s degree (BA, BS, B.Eng., etc.)</td>\n",
       "      <td>Black or of African descent</td>\n",
       "      <td>25 - 34 years old</td>\n",
       "      <td>Yes</td>\n",
       "      <td>NaN</td>\n",
       "      <td>The survey was an appropriate length</td>\n",
       "      <td>Very easy</td>\n",
       "    </tr>\n",
       "    <tr>\n",
       "      <th>1</th>\n",
       "      <td>3</td>\n",
       "      <td>Yes</td>\n",
       "      <td>Yes</td>\n",
       "      <td>United Kingdom</td>\n",
       "      <td>No</td>\n",
       "      <td>Employed full-time</td>\n",
       "      <td>Bachelor’s degree (BA, BS, B.Eng., etc.)</td>\n",
       "      <td>A natural science (ex. biology, chemistry, physics)</td>\n",
       "      <td>10,000 or more employees</td>\n",
       "      <td>Database administrator;DevOps specialist;Full-stack developer;System administrator</td>\n",
       "      <td>...</td>\n",
       "      <td>Daily or almost every day</td>\n",
       "      <td>Male</td>\n",
       "      <td>Straight or heterosexual</td>\n",
       "      <td>Bachelor’s degree (BA, BS, B.Eng., etc.)</td>\n",
       "      <td>White or of European descent</td>\n",
       "      <td>35 - 44 years old</td>\n",
       "      <td>Yes</td>\n",
       "      <td>NaN</td>\n",
       "      <td>The survey was an appropriate length</td>\n",
       "      <td>Somewhat easy</td>\n",
       "    </tr>\n",
       "    <tr>\n",
       "      <th>2</th>\n",
       "      <td>4</td>\n",
       "      <td>Yes</td>\n",
       "      <td>Yes</td>\n",
       "      <td>United States</td>\n",
       "      <td>No</td>\n",
       "      <td>Employed full-time</td>\n",
       "      <td>Associate degree</td>\n",
       "      <td>Computer science, computer engineering, or software engineering</td>\n",
       "      <td>20 to 99 employees</td>\n",
       "      <td>Engineering manager;Full-stack developer</td>\n",
       "      <td>...</td>\n",
       "      <td>NaN</td>\n",
       "      <td>NaN</td>\n",
       "      <td>NaN</td>\n",
       "      <td>NaN</td>\n",
       "      <td>NaN</td>\n",
       "      <td>NaN</td>\n",
       "      <td>NaN</td>\n",
       "      <td>NaN</td>\n",
       "      <td>NaN</td>\n",
       "      <td>NaN</td>\n",
       "    </tr>\n",
       "    <tr>\n",
       "      <th>3</th>\n",
       "      <td>5</td>\n",
       "      <td>No</td>\n",
       "      <td>No</td>\n",
       "      <td>United States</td>\n",
       "      <td>No</td>\n",
       "      <td>Employed full-time</td>\n",
       "      <td>Bachelor’s degree (BA, BS, B.Eng., etc.)</td>\n",
       "      <td>Computer science, computer engineering, or software engineering</td>\n",
       "      <td>100 to 499 employees</td>\n",
       "      <td>Full-stack developer</td>\n",
       "      <td>...</td>\n",
       "      <td>I don't typically exercise</td>\n",
       "      <td>Male</td>\n",
       "      <td>Straight or heterosexual</td>\n",
       "      <td>Some college/university study without earning a degree</td>\n",
       "      <td>White or of European descent</td>\n",
       "      <td>35 - 44 years old</td>\n",
       "      <td>No</td>\n",
       "      <td>No</td>\n",
       "      <td>The survey was an appropriate length</td>\n",
       "      <td>Somewhat easy</td>\n",
       "    </tr>\n",
       "    <tr>\n",
       "      <th>4</th>\n",
       "      <td>7</td>\n",
       "      <td>Yes</td>\n",
       "      <td>No</td>\n",
       "      <td>South Africa</td>\n",
       "      <td>Yes, part-time</td>\n",
       "      <td>Employed full-time</td>\n",
       "      <td>Some college/university study without earning a degree</td>\n",
       "      <td>Computer science, computer engineering, or software engineering</td>\n",
       "      <td>10,000 or more employees</td>\n",
       "      <td>Data or business analyst;Desktop or enterprise applications developer;Game or graphics developer;QA or test developer;Student</td>\n",
       "      <td>...</td>\n",
       "      <td>3 - 4 times per week</td>\n",
       "      <td>Male</td>\n",
       "      <td>Straight or heterosexual</td>\n",
       "      <td>Some college/university study without earning a degree</td>\n",
       "      <td>White or of European descent</td>\n",
       "      <td>18 - 24 years old</td>\n",
       "      <td>Yes</td>\n",
       "      <td>NaN</td>\n",
       "      <td>The survey was an appropriate length</td>\n",
       "      <td>Somewhat easy</td>\n",
       "    </tr>\n",
       "  </tbody>\n",
       "</table>\n",
       "<p>5 rows × 129 columns</p>\n",
       "</div>"
      ],
      "text/plain": [
       "   Respondent Hobby OpenSource         Country         Student  \\\n",
       "0           1   Yes         No           Kenya              No   \n",
       "1           3   Yes        Yes  United Kingdom              No   \n",
       "2           4   Yes        Yes   United States              No   \n",
       "3           5    No         No   United States              No   \n",
       "4           7   Yes         No    South Africa  Yes, part-time   \n",
       "\n",
       "           Employment                                         FormalEducation  \\\n",
       "0  Employed part-time                Bachelor’s degree (BA, BS, B.Eng., etc.)   \n",
       "1  Employed full-time                Bachelor’s degree (BA, BS, B.Eng., etc.)   \n",
       "2  Employed full-time                                        Associate degree   \n",
       "3  Employed full-time                Bachelor’s degree (BA, BS, B.Eng., etc.)   \n",
       "4  Employed full-time  Some college/university study without earning a degree   \n",
       "\n",
       "                                                    UndergradMajor  \\\n",
       "0                                        Mathematics or statistics   \n",
       "1              A natural science (ex. biology, chemistry, physics)   \n",
       "2  Computer science, computer engineering, or software engineering   \n",
       "3  Computer science, computer engineering, or software engineering   \n",
       "4  Computer science, computer engineering, or software engineering   \n",
       "\n",
       "                CompanySize  \\\n",
       "0        20 to 99 employees   \n",
       "1  10,000 or more employees   \n",
       "2        20 to 99 employees   \n",
       "3      100 to 499 employees   \n",
       "4  10,000 or more employees   \n",
       "\n",
       "                                                                                                                         DevType  \\\n",
       "0                                                                                                           Full-stack developer   \n",
       "1                                             Database administrator;DevOps specialist;Full-stack developer;System administrator   \n",
       "2                                                                                       Engineering manager;Full-stack developer   \n",
       "3                                                                                                           Full-stack developer   \n",
       "4  Data or business analyst;Desktop or enterprise applications developer;Game or graphics developer;QA or test developer;Student   \n",
       "\n",
       "   ...                    Exercise Gender         SexualOrientation  \\\n",
       "0  ...        3 - 4 times per week   Male  Straight or heterosexual   \n",
       "1  ...   Daily or almost every day   Male  Straight or heterosexual   \n",
       "2  ...                         NaN    NaN                       NaN   \n",
       "3  ...  I don't typically exercise   Male  Straight or heterosexual   \n",
       "4  ...        3 - 4 times per week   Male  Straight or heterosexual   \n",
       "\n",
       "                                         EducationParents  \\\n",
       "0                Bachelor’s degree (BA, BS, B.Eng., etc.)   \n",
       "1                Bachelor’s degree (BA, BS, B.Eng., etc.)   \n",
       "2                                                     NaN   \n",
       "3  Some college/university study without earning a degree   \n",
       "4  Some college/university study without earning a degree   \n",
       "\n",
       "                  RaceEthnicity                Age Dependents  MilitaryUS  \\\n",
       "0   Black or of African descent  25 - 34 years old        Yes         NaN   \n",
       "1  White or of European descent  35 - 44 years old        Yes         NaN   \n",
       "2                           NaN                NaN        NaN         NaN   \n",
       "3  White or of European descent  35 - 44 years old         No          No   \n",
       "4  White or of European descent  18 - 24 years old        Yes         NaN   \n",
       "\n",
       "                          SurveyTooLong     SurveyEasy  \n",
       "0  The survey was an appropriate length      Very easy  \n",
       "1  The survey was an appropriate length  Somewhat easy  \n",
       "2                                   NaN            NaN  \n",
       "3  The survey was an appropriate length  Somewhat easy  \n",
       "4  The survey was an appropriate length  Somewhat easy  \n",
       "\n",
       "[5 rows x 129 columns]"
      ]
     },
     "execution_count": 30,
     "metadata": {},
     "output_type": "execute_result"
    }
   ],
   "source": [
    "# read the data 2018\n",
    "df1 = pd.read_csv(\"C:\\\\Users\\\\qxz2f4p\\\\Documents\\\\git_dir\\\\Data_source\\\\2018_survey_results_public.csv\")\n",
    "print(df1.shape)\n",
    "df1.head()"
   ]
  },
  {
   "cell_type": "code",
   "execution_count": 31,
   "metadata": {},
   "outputs": [
    {
     "name": "stdout",
     "output_type": "stream",
     "text": [
      "(88883, 85)\n"
     ]
    },
    {
     "data": {
      "text/html": [
       "<div>\n",
       "<style scoped>\n",
       "    .dataframe tbody tr th:only-of-type {\n",
       "        vertical-align: middle;\n",
       "    }\n",
       "\n",
       "    .dataframe tbody tr th {\n",
       "        vertical-align: top;\n",
       "    }\n",
       "\n",
       "    .dataframe thead th {\n",
       "        text-align: right;\n",
       "    }\n",
       "</style>\n",
       "<table border=\"1\" class=\"dataframe\">\n",
       "  <thead>\n",
       "    <tr style=\"text-align: right;\">\n",
       "      <th></th>\n",
       "      <th>Respondent</th>\n",
       "      <th>MainBranch</th>\n",
       "      <th>Hobbyist</th>\n",
       "      <th>OpenSourcer</th>\n",
       "      <th>OpenSource</th>\n",
       "      <th>Employment</th>\n",
       "      <th>Country</th>\n",
       "      <th>Student</th>\n",
       "      <th>EdLevel</th>\n",
       "      <th>UndergradMajor</th>\n",
       "      <th>...</th>\n",
       "      <th>WelcomeChange</th>\n",
       "      <th>SONewContent</th>\n",
       "      <th>Age</th>\n",
       "      <th>Gender</th>\n",
       "      <th>Trans</th>\n",
       "      <th>Sexuality</th>\n",
       "      <th>Ethnicity</th>\n",
       "      <th>Dependents</th>\n",
       "      <th>SurveyLength</th>\n",
       "      <th>SurveyEase</th>\n",
       "    </tr>\n",
       "  </thead>\n",
       "  <tbody>\n",
       "    <tr>\n",
       "      <th>0</th>\n",
       "      <td>1</td>\n",
       "      <td>I am a student who is learning to code</td>\n",
       "      <td>Yes</td>\n",
       "      <td>Never</td>\n",
       "      <td>The quality of OSS and closed source software is about the same</td>\n",
       "      <td>Not employed, and not looking for work</td>\n",
       "      <td>United Kingdom</td>\n",
       "      <td>No</td>\n",
       "      <td>Primary/elementary school</td>\n",
       "      <td>NaN</td>\n",
       "      <td>...</td>\n",
       "      <td>Just as welcome now as I felt last year</td>\n",
       "      <td>Tech articles written by other developers;Industry news about technologies you're interested in;Courses on technologies you're interested in</td>\n",
       "      <td>14.0</td>\n",
       "      <td>Man</td>\n",
       "      <td>No</td>\n",
       "      <td>Straight / Heterosexual</td>\n",
       "      <td>NaN</td>\n",
       "      <td>No</td>\n",
       "      <td>Appropriate in length</td>\n",
       "      <td>Neither easy nor difficult</td>\n",
       "    </tr>\n",
       "    <tr>\n",
       "      <th>1</th>\n",
       "      <td>2</td>\n",
       "      <td>I am a student who is learning to code</td>\n",
       "      <td>No</td>\n",
       "      <td>Less than once per year</td>\n",
       "      <td>The quality of OSS and closed source software is about the same</td>\n",
       "      <td>Not employed, but looking for work</td>\n",
       "      <td>Bosnia and Herzegovina</td>\n",
       "      <td>Yes, full-time</td>\n",
       "      <td>Secondary school (e.g. American high school, German Realschule or Gymnasium, etc.)</td>\n",
       "      <td>NaN</td>\n",
       "      <td>...</td>\n",
       "      <td>Just as welcome now as I felt last year</td>\n",
       "      <td>Tech articles written by other developers;Industry news about technologies you're interested in;Tech meetups or events in your area;Courses on technologies you're interested in</td>\n",
       "      <td>19.0</td>\n",
       "      <td>Man</td>\n",
       "      <td>No</td>\n",
       "      <td>Straight / Heterosexual</td>\n",
       "      <td>NaN</td>\n",
       "      <td>No</td>\n",
       "      <td>Appropriate in length</td>\n",
       "      <td>Neither easy nor difficult</td>\n",
       "    </tr>\n",
       "    <tr>\n",
       "      <th>2</th>\n",
       "      <td>3</td>\n",
       "      <td>I am not primarily a developer, but I write code sometimes as part of my work</td>\n",
       "      <td>Yes</td>\n",
       "      <td>Never</td>\n",
       "      <td>The quality of OSS and closed source software is about the same</td>\n",
       "      <td>Employed full-time</td>\n",
       "      <td>Thailand</td>\n",
       "      <td>No</td>\n",
       "      <td>Bachelor’s degree (BA, BS, B.Eng., etc.)</td>\n",
       "      <td>Web development or web design</td>\n",
       "      <td>...</td>\n",
       "      <td>Just as welcome now as I felt last year</td>\n",
       "      <td>Tech meetups or events in your area;Courses on technologies you're interested in</td>\n",
       "      <td>28.0</td>\n",
       "      <td>Man</td>\n",
       "      <td>No</td>\n",
       "      <td>Straight / Heterosexual</td>\n",
       "      <td>NaN</td>\n",
       "      <td>Yes</td>\n",
       "      <td>Appropriate in length</td>\n",
       "      <td>Neither easy nor difficult</td>\n",
       "    </tr>\n",
       "    <tr>\n",
       "      <th>3</th>\n",
       "      <td>4</td>\n",
       "      <td>I am a developer by profession</td>\n",
       "      <td>No</td>\n",
       "      <td>Never</td>\n",
       "      <td>The quality of OSS and closed source software is about the same</td>\n",
       "      <td>Employed full-time</td>\n",
       "      <td>United States</td>\n",
       "      <td>No</td>\n",
       "      <td>Bachelor’s degree (BA, BS, B.Eng., etc.)</td>\n",
       "      <td>Computer science, computer engineering, or software engineering</td>\n",
       "      <td>...</td>\n",
       "      <td>Just as welcome now as I felt last year</td>\n",
       "      <td>Tech articles written by other developers;Industry news about technologies you're interested in;Tech meetups or events in your area;Courses on technologies you're interested in</td>\n",
       "      <td>22.0</td>\n",
       "      <td>Man</td>\n",
       "      <td>No</td>\n",
       "      <td>Straight / Heterosexual</td>\n",
       "      <td>White or of European descent</td>\n",
       "      <td>No</td>\n",
       "      <td>Appropriate in length</td>\n",
       "      <td>Easy</td>\n",
       "    </tr>\n",
       "    <tr>\n",
       "      <th>4</th>\n",
       "      <td>5</td>\n",
       "      <td>I am a developer by profession</td>\n",
       "      <td>Yes</td>\n",
       "      <td>Once a month or more often</td>\n",
       "      <td>OSS is, on average, of HIGHER quality than proprietary / closed source software</td>\n",
       "      <td>Employed full-time</td>\n",
       "      <td>Ukraine</td>\n",
       "      <td>No</td>\n",
       "      <td>Bachelor’s degree (BA, BS, B.Eng., etc.)</td>\n",
       "      <td>Computer science, computer engineering, or software engineering</td>\n",
       "      <td>...</td>\n",
       "      <td>Just as welcome now as I felt last year</td>\n",
       "      <td>Tech meetups or events in your area;Courses on technologies you're interested in</td>\n",
       "      <td>30.0</td>\n",
       "      <td>Man</td>\n",
       "      <td>No</td>\n",
       "      <td>Straight / Heterosexual</td>\n",
       "      <td>White or of European descent;Multiracial</td>\n",
       "      <td>No</td>\n",
       "      <td>Appropriate in length</td>\n",
       "      <td>Easy</td>\n",
       "    </tr>\n",
       "  </tbody>\n",
       "</table>\n",
       "<p>5 rows × 85 columns</p>\n",
       "</div>"
      ],
      "text/plain": [
       "   Respondent  \\\n",
       "0           1   \n",
       "1           2   \n",
       "2           3   \n",
       "3           4   \n",
       "4           5   \n",
       "\n",
       "                                                                      MainBranch  \\\n",
       "0                                         I am a student who is learning to code   \n",
       "1                                         I am a student who is learning to code   \n",
       "2  I am not primarily a developer, but I write code sometimes as part of my work   \n",
       "3                                                 I am a developer by profession   \n",
       "4                                                 I am a developer by profession   \n",
       "\n",
       "  Hobbyist                 OpenSourcer  \\\n",
       "0      Yes                       Never   \n",
       "1       No     Less than once per year   \n",
       "2      Yes                       Never   \n",
       "3       No                       Never   \n",
       "4      Yes  Once a month or more often   \n",
       "\n",
       "                                                                        OpenSource  \\\n",
       "0                  The quality of OSS and closed source software is about the same   \n",
       "1                  The quality of OSS and closed source software is about the same   \n",
       "2                  The quality of OSS and closed source software is about the same   \n",
       "3                  The quality of OSS and closed source software is about the same   \n",
       "4  OSS is, on average, of HIGHER quality than proprietary / closed source software   \n",
       "\n",
       "                               Employment                 Country  \\\n",
       "0  Not employed, and not looking for work          United Kingdom   \n",
       "1      Not employed, but looking for work  Bosnia and Herzegovina   \n",
       "2                      Employed full-time                Thailand   \n",
       "3                      Employed full-time           United States   \n",
       "4                      Employed full-time                 Ukraine   \n",
       "\n",
       "          Student  \\\n",
       "0              No   \n",
       "1  Yes, full-time   \n",
       "2              No   \n",
       "3              No   \n",
       "4              No   \n",
       "\n",
       "                                                                              EdLevel  \\\n",
       "0                                                           Primary/elementary school   \n",
       "1  Secondary school (e.g. American high school, German Realschule or Gymnasium, etc.)   \n",
       "2                                            Bachelor’s degree (BA, BS, B.Eng., etc.)   \n",
       "3                                            Bachelor’s degree (BA, BS, B.Eng., etc.)   \n",
       "4                                            Bachelor’s degree (BA, BS, B.Eng., etc.)   \n",
       "\n",
       "                                                    UndergradMajor  ...  \\\n",
       "0                                                              NaN  ...   \n",
       "1                                                              NaN  ...   \n",
       "2                                    Web development or web design  ...   \n",
       "3  Computer science, computer engineering, or software engineering  ...   \n",
       "4  Computer science, computer engineering, or software engineering  ...   \n",
       "\n",
       "                             WelcomeChange  \\\n",
       "0  Just as welcome now as I felt last year   \n",
       "1  Just as welcome now as I felt last year   \n",
       "2  Just as welcome now as I felt last year   \n",
       "3  Just as welcome now as I felt last year   \n",
       "4  Just as welcome now as I felt last year   \n",
       "\n",
       "                                                                                                                                                                       SONewContent  \\\n",
       "0                                      Tech articles written by other developers;Industry news about technologies you're interested in;Courses on technologies you're interested in   \n",
       "1  Tech articles written by other developers;Industry news about technologies you're interested in;Tech meetups or events in your area;Courses on technologies you're interested in   \n",
       "2                                                                                                  Tech meetups or events in your area;Courses on technologies you're interested in   \n",
       "3  Tech articles written by other developers;Industry news about technologies you're interested in;Tech meetups or events in your area;Courses on technologies you're interested in   \n",
       "4                                                                                                  Tech meetups or events in your area;Courses on technologies you're interested in   \n",
       "\n",
       "    Age Gender Trans                Sexuality  \\\n",
       "0  14.0    Man    No  Straight / Heterosexual   \n",
       "1  19.0    Man    No  Straight / Heterosexual   \n",
       "2  28.0    Man    No  Straight / Heterosexual   \n",
       "3  22.0    Man    No  Straight / Heterosexual   \n",
       "4  30.0    Man    No  Straight / Heterosexual   \n",
       "\n",
       "                                  Ethnicity Dependents           SurveyLength  \\\n",
       "0                                       NaN         No  Appropriate in length   \n",
       "1                                       NaN         No  Appropriate in length   \n",
       "2                                       NaN        Yes  Appropriate in length   \n",
       "3              White or of European descent         No  Appropriate in length   \n",
       "4  White or of European descent;Multiracial         No  Appropriate in length   \n",
       "\n",
       "                   SurveyEase  \n",
       "0  Neither easy nor difficult  \n",
       "1  Neither easy nor difficult  \n",
       "2  Neither easy nor difficult  \n",
       "3                        Easy  \n",
       "4                        Easy  \n",
       "\n",
       "[5 rows x 85 columns]"
      ]
     },
     "execution_count": 31,
     "metadata": {},
     "output_type": "execute_result"
    }
   ],
   "source": [
    "# read the data 2019\n",
    "df2 = pd.read_csv(\"C:\\\\Users\\\\qxz2f4p\\\\Documents\\\\git_dir\\\\Data_source\\\\2019_survey_results_public.csv\")\n",
    "print(df2.shape)\n",
    "df2.head()"
   ]
  },
  {
   "cell_type": "code",
   "execution_count": 32,
   "metadata": {},
   "outputs": [
    {
     "name": "stdout",
     "output_type": "stream",
     "text": [
      "(64461, 61)\n"
     ]
    },
    {
     "data": {
      "text/html": [
       "<div>\n",
       "<style scoped>\n",
       "    .dataframe tbody tr th:only-of-type {\n",
       "        vertical-align: middle;\n",
       "    }\n",
       "\n",
       "    .dataframe tbody tr th {\n",
       "        vertical-align: top;\n",
       "    }\n",
       "\n",
       "    .dataframe thead th {\n",
       "        text-align: right;\n",
       "    }\n",
       "</style>\n",
       "<table border=\"1\" class=\"dataframe\">\n",
       "  <thead>\n",
       "    <tr style=\"text-align: right;\">\n",
       "      <th></th>\n",
       "      <th>Respondent</th>\n",
       "      <th>MainBranch</th>\n",
       "      <th>Hobbyist</th>\n",
       "      <th>Age</th>\n",
       "      <th>Age1stCode</th>\n",
       "      <th>CompFreq</th>\n",
       "      <th>CompTotal</th>\n",
       "      <th>ConvertedComp</th>\n",
       "      <th>Country</th>\n",
       "      <th>CurrencyDesc</th>\n",
       "      <th>...</th>\n",
       "      <th>SurveyEase</th>\n",
       "      <th>SurveyLength</th>\n",
       "      <th>Trans</th>\n",
       "      <th>UndergradMajor</th>\n",
       "      <th>WebframeDesireNextYear</th>\n",
       "      <th>WebframeWorkedWith</th>\n",
       "      <th>WelcomeChange</th>\n",
       "      <th>WorkWeekHrs</th>\n",
       "      <th>YearsCode</th>\n",
       "      <th>YearsCodePro</th>\n",
       "    </tr>\n",
       "  </thead>\n",
       "  <tbody>\n",
       "    <tr>\n",
       "      <th>0</th>\n",
       "      <td>1</td>\n",
       "      <td>I am a developer by profession</td>\n",
       "      <td>Yes</td>\n",
       "      <td>NaN</td>\n",
       "      <td>13</td>\n",
       "      <td>Monthly</td>\n",
       "      <td>NaN</td>\n",
       "      <td>NaN</td>\n",
       "      <td>Germany</td>\n",
       "      <td>European Euro</td>\n",
       "      <td>...</td>\n",
       "      <td>Neither easy nor difficult</td>\n",
       "      <td>Appropriate in length</td>\n",
       "      <td>No</td>\n",
       "      <td>Computer science, computer engineering, or software engineering</td>\n",
       "      <td>ASP.NET Core</td>\n",
       "      <td>ASP.NET;ASP.NET Core</td>\n",
       "      <td>Just as welcome now as I felt last year</td>\n",
       "      <td>50.0</td>\n",
       "      <td>36</td>\n",
       "      <td>27</td>\n",
       "    </tr>\n",
       "    <tr>\n",
       "      <th>1</th>\n",
       "      <td>2</td>\n",
       "      <td>I am a developer by profession</td>\n",
       "      <td>No</td>\n",
       "      <td>NaN</td>\n",
       "      <td>19</td>\n",
       "      <td>NaN</td>\n",
       "      <td>NaN</td>\n",
       "      <td>NaN</td>\n",
       "      <td>United Kingdom</td>\n",
       "      <td>Pound sterling</td>\n",
       "      <td>...</td>\n",
       "      <td>NaN</td>\n",
       "      <td>NaN</td>\n",
       "      <td>NaN</td>\n",
       "      <td>Computer science, computer engineering, or software engineering</td>\n",
       "      <td>NaN</td>\n",
       "      <td>NaN</td>\n",
       "      <td>Somewhat more welcome now than last year</td>\n",
       "      <td>NaN</td>\n",
       "      <td>7</td>\n",
       "      <td>4</td>\n",
       "    </tr>\n",
       "    <tr>\n",
       "      <th>2</th>\n",
       "      <td>3</td>\n",
       "      <td>I code primarily as a hobby</td>\n",
       "      <td>Yes</td>\n",
       "      <td>NaN</td>\n",
       "      <td>15</td>\n",
       "      <td>NaN</td>\n",
       "      <td>NaN</td>\n",
       "      <td>NaN</td>\n",
       "      <td>Russian Federation</td>\n",
       "      <td>NaN</td>\n",
       "      <td>...</td>\n",
       "      <td>Neither easy nor difficult</td>\n",
       "      <td>Appropriate in length</td>\n",
       "      <td>NaN</td>\n",
       "      <td>NaN</td>\n",
       "      <td>NaN</td>\n",
       "      <td>NaN</td>\n",
       "      <td>Somewhat more welcome now than last year</td>\n",
       "      <td>NaN</td>\n",
       "      <td>4</td>\n",
       "      <td>NaN</td>\n",
       "    </tr>\n",
       "    <tr>\n",
       "      <th>3</th>\n",
       "      <td>4</td>\n",
       "      <td>I am a developer by profession</td>\n",
       "      <td>Yes</td>\n",
       "      <td>25.0</td>\n",
       "      <td>18</td>\n",
       "      <td>NaN</td>\n",
       "      <td>NaN</td>\n",
       "      <td>NaN</td>\n",
       "      <td>Albania</td>\n",
       "      <td>Albanian lek</td>\n",
       "      <td>...</td>\n",
       "      <td>NaN</td>\n",
       "      <td>NaN</td>\n",
       "      <td>No</td>\n",
       "      <td>Computer science, computer engineering, or software engineering</td>\n",
       "      <td>NaN</td>\n",
       "      <td>NaN</td>\n",
       "      <td>Somewhat less welcome now than last year</td>\n",
       "      <td>40.0</td>\n",
       "      <td>7</td>\n",
       "      <td>4</td>\n",
       "    </tr>\n",
       "    <tr>\n",
       "      <th>4</th>\n",
       "      <td>5</td>\n",
       "      <td>I used to be a developer by profession, but no longer am</td>\n",
       "      <td>Yes</td>\n",
       "      <td>31.0</td>\n",
       "      <td>16</td>\n",
       "      <td>NaN</td>\n",
       "      <td>NaN</td>\n",
       "      <td>NaN</td>\n",
       "      <td>United States</td>\n",
       "      <td>NaN</td>\n",
       "      <td>...</td>\n",
       "      <td>Easy</td>\n",
       "      <td>Too short</td>\n",
       "      <td>No</td>\n",
       "      <td>Computer science, computer engineering, or software engineering</td>\n",
       "      <td>Django;Ruby on Rails</td>\n",
       "      <td>Ruby on Rails</td>\n",
       "      <td>Just as welcome now as I felt last year</td>\n",
       "      <td>NaN</td>\n",
       "      <td>15</td>\n",
       "      <td>8</td>\n",
       "    </tr>\n",
       "  </tbody>\n",
       "</table>\n",
       "<p>5 rows × 61 columns</p>\n",
       "</div>"
      ],
      "text/plain": [
       "   Respondent                                                MainBranch  \\\n",
       "0           1                            I am a developer by profession   \n",
       "1           2                            I am a developer by profession   \n",
       "2           3                               I code primarily as a hobby   \n",
       "3           4                            I am a developer by profession   \n",
       "4           5  I used to be a developer by profession, but no longer am   \n",
       "\n",
       "  Hobbyist   Age Age1stCode CompFreq  CompTotal  ConvertedComp  \\\n",
       "0      Yes   NaN         13  Monthly        NaN            NaN   \n",
       "1       No   NaN         19      NaN        NaN            NaN   \n",
       "2      Yes   NaN         15      NaN        NaN            NaN   \n",
       "3      Yes  25.0         18      NaN        NaN            NaN   \n",
       "4      Yes  31.0         16      NaN        NaN            NaN   \n",
       "\n",
       "              Country    CurrencyDesc  ...                  SurveyEase  \\\n",
       "0             Germany   European Euro  ...  Neither easy nor difficult   \n",
       "1      United Kingdom  Pound sterling  ...                         NaN   \n",
       "2  Russian Federation             NaN  ...  Neither easy nor difficult   \n",
       "3             Albania    Albanian lek  ...                         NaN   \n",
       "4       United States             NaN  ...                        Easy   \n",
       "\n",
       "            SurveyLength Trans  \\\n",
       "0  Appropriate in length    No   \n",
       "1                    NaN   NaN   \n",
       "2  Appropriate in length   NaN   \n",
       "3                    NaN    No   \n",
       "4              Too short    No   \n",
       "\n",
       "                                                    UndergradMajor  \\\n",
       "0  Computer science, computer engineering, or software engineering   \n",
       "1  Computer science, computer engineering, or software engineering   \n",
       "2                                                              NaN   \n",
       "3  Computer science, computer engineering, or software engineering   \n",
       "4  Computer science, computer engineering, or software engineering   \n",
       "\n",
       "  WebframeDesireNextYear    WebframeWorkedWith  \\\n",
       "0           ASP.NET Core  ASP.NET;ASP.NET Core   \n",
       "1                    NaN                   NaN   \n",
       "2                    NaN                   NaN   \n",
       "3                    NaN                   NaN   \n",
       "4   Django;Ruby on Rails         Ruby on Rails   \n",
       "\n",
       "                              WelcomeChange WorkWeekHrs YearsCode YearsCodePro  \n",
       "0   Just as welcome now as I felt last year        50.0        36           27  \n",
       "1  Somewhat more welcome now than last year         NaN         7            4  \n",
       "2  Somewhat more welcome now than last year         NaN         4          NaN  \n",
       "3  Somewhat less welcome now than last year        40.0         7            4  \n",
       "4   Just as welcome now as I felt last year         NaN        15            8  \n",
       "\n",
       "[5 rows x 61 columns]"
      ]
     },
     "execution_count": 32,
     "metadata": {},
     "output_type": "execute_result"
    }
   ],
   "source": [
    "# read the data 2020\n",
    "df3 = pd.read_csv(\"C:\\\\Users\\\\qxz2f4p\\\\Documents\\\\git_dir\\\\Data_source\\\\2020_survey_results_public.csv\")\n",
    "print(df3.shape)\n",
    "df3.head()"
   ]
  },
  {
   "cell_type": "markdown",
   "metadata": {},
   "source": [
    "#### Define which datasets are comparable"
   ]
  },
  {
   "cell_type": "code",
   "execution_count": 33,
   "metadata": {},
   "outputs": [
    {
     "name": "stdout",
     "output_type": "stream",
     "text": [
      "['IDE', 'CareerSatisfaction', 'VersionControl', 'FormalEducation', 'Currency', 'JobSatisfaction', 'Gender', 'Country', 'SelfTaughtTypes', 'Respondent', 'Salary', 'TimeAfterBootcamp', 'EducationTypes', 'CheckInCode', 'CompanySize', 'LastNewJob', 'Methodology'] 17\n",
      "['Sexuality', 'Ethnicity', 'WorkWeekHrs', 'PurchaseWhat', 'LanguageDesireNextYear', 'Country', 'UndergradMajor', 'SurveyEase', 'DatabaseWorkedWith', 'SOVisitFreq', 'WelcomeChange', 'SOPartFreq', 'MiscTechDesireNextYear', 'CompTotal', 'SOAccount', 'Hobbyist', 'Employment', 'Trans', 'PlatformWorkedWith', 'Respondent', 'EdLevel', 'ConvertedComp', 'JobFactors', 'DevType', 'JobSeek', 'SurveyLength', 'YearsCode', 'JobSat', 'MainBranch', 'MiscTechWorkedWith', 'CurrencyDesc', 'SOComm', 'OpSys', 'Age1stCode', 'PlatformDesireNextYear', 'CurrencySymbol', 'DatabaseDesireNextYear', 'Age', 'Gender', 'OrgSize', 'LanguageWorkedWith', 'YearsCodePro', 'CompFreq'] 43\n",
      "['Respondent', 'Gender', 'Country'] 3\n"
     ]
    }
   ],
   "source": [
    "# define how many same questions have datasets\n",
    "def intersection(lst1, lst2):\n",
    "    return list(set(lst1) & set(lst2))\n",
    "a = intersection(df.columns, df1.columns)\n",
    "print(a, len(a))\n",
    "b = intersection(df3.columns, df2.columns)\n",
    "print(b, len(b))\n",
    "c = intersection(a, b)\n",
    "print(c, len(c))"
   ]
  },
  {
   "cell_type": "markdown",
   "metadata": {},
   "source": [
    "We can see that data from 2019 and 2020 have 43 intersections, that means, we can compare this data to answer our questions."
   ]
  },
  {
   "cell_type": "markdown",
   "metadata": {},
   "source": [
    "#### Clean data\n",
    "Find and drop columns with a lot of nulls (more than 50%)"
   ]
  },
  {
   "cell_type": "code",
   "execution_count": 34,
   "metadata": {},
   "outputs": [],
   "source": [
    "# function for drop nulls from bad populated columns\n",
    "def drop_nulls(df):\n",
    "    '''\n",
    "    function for drop nulls from bad populated columns (at least 50% nulls)\n",
    "    INPUT:\n",
    "    df - dataframe\n",
    "    \n",
    "    OUTPUT:\n",
    "    cleaned dataframe\n",
    "    '''\n",
    "    attr = df.columns\n",
    "    for col in attr:\n",
    "        if df[col].isna().sum()/df.shape[0] >= 0.50:\n",
    "            df = df.drop(columns=[col])\n",
    "    return df"
   ]
  },
  {
   "cell_type": "code",
   "execution_count": 35,
   "metadata": {},
   "outputs": [
    {
     "data": {
      "text/plain": [
       "(88883, 85)"
      ]
     },
     "execution_count": 35,
     "metadata": {},
     "output_type": "execute_result"
    }
   ],
   "source": [
    "# drop nulls\n",
    "df2 = drop_nulls(df2)\n",
    "df2.shape"
   ]
  },
  {
   "cell_type": "code",
   "execution_count": 36,
   "metadata": {},
   "outputs": [
    {
     "data": {
      "text/plain": [
       "(64461, 61)"
      ]
     },
     "execution_count": 36,
     "metadata": {},
     "output_type": "execute_result"
    }
   ],
   "source": [
    "# drop nulls\n",
    "df3 = drop_nulls(df3)\n",
    "df3.shape"
   ]
  },
  {
   "cell_type": "code",
   "execution_count": 37,
   "metadata": {},
   "outputs": [
    {
     "name": "stdout",
     "output_type": "stream",
     "text": [
      "(88883, 43)\n",
      "(64461, 43)\n"
     ]
    }
   ],
   "source": [
    "# select only intersection of dataframes\n",
    "df_19 = df2[b]\n",
    "df_20 = df3[b]\n",
    "print(df_19.shape)\n",
    "print(df_20.shape)"
   ]
  },
  {
   "cell_type": "code",
   "execution_count": 38,
   "metadata": {},
   "outputs": [
    {
     "data": {
      "text/html": [
       "<div>\n",
       "<style scoped>\n",
       "    .dataframe tbody tr th:only-of-type {\n",
       "        vertical-align: middle;\n",
       "    }\n",
       "\n",
       "    .dataframe tbody tr th {\n",
       "        vertical-align: top;\n",
       "    }\n",
       "\n",
       "    .dataframe thead th {\n",
       "        text-align: right;\n",
       "    }\n",
       "</style>\n",
       "<table border=\"1\" class=\"dataframe\">\n",
       "  <thead>\n",
       "    <tr style=\"text-align: right;\">\n",
       "      <th></th>\n",
       "      <th>WorkWeekHrs</th>\n",
       "      <th>CompTotal</th>\n",
       "      <th>Respondent</th>\n",
       "      <th>ConvertedComp</th>\n",
       "      <th>Age</th>\n",
       "    </tr>\n",
       "  </thead>\n",
       "  <tbody>\n",
       "    <tr>\n",
       "      <th>count</th>\n",
       "      <td>64503.000000</td>\n",
       "      <td>5.594500e+04</td>\n",
       "      <td>88883.000000</td>\n",
       "      <td>5.582300e+04</td>\n",
       "      <td>79210.000000</td>\n",
       "    </tr>\n",
       "    <tr>\n",
       "      <th>mean</th>\n",
       "      <td>42.127197</td>\n",
       "      <td>5.519014e+11</td>\n",
       "      <td>44442.000000</td>\n",
       "      <td>1.271107e+05</td>\n",
       "      <td>30.336699</td>\n",
       "    </tr>\n",
       "    <tr>\n",
       "      <th>std</th>\n",
       "      <td>37.287610</td>\n",
       "      <td>7.331926e+13</td>\n",
       "      <td>25658.456325</td>\n",
       "      <td>2.841523e+05</td>\n",
       "      <td>9.178390</td>\n",
       "    </tr>\n",
       "    <tr>\n",
       "      <th>min</th>\n",
       "      <td>1.000000</td>\n",
       "      <td>0.000000e+00</td>\n",
       "      <td>1.000000</td>\n",
       "      <td>0.000000e+00</td>\n",
       "      <td>1.000000</td>\n",
       "    </tr>\n",
       "    <tr>\n",
       "      <th>25%</th>\n",
       "      <td>40.000000</td>\n",
       "      <td>2.000000e+04</td>\n",
       "      <td>22221.500000</td>\n",
       "      <td>2.577750e+04</td>\n",
       "      <td>24.000000</td>\n",
       "    </tr>\n",
       "    <tr>\n",
       "      <th>50%</th>\n",
       "      <td>40.000000</td>\n",
       "      <td>6.200000e+04</td>\n",
       "      <td>44442.000000</td>\n",
       "      <td>5.728700e+04</td>\n",
       "      <td>29.000000</td>\n",
       "    </tr>\n",
       "    <tr>\n",
       "      <th>75%</th>\n",
       "      <td>44.750000</td>\n",
       "      <td>1.200000e+05</td>\n",
       "      <td>66662.500000</td>\n",
       "      <td>1.000000e+05</td>\n",
       "      <td>35.000000</td>\n",
       "    </tr>\n",
       "    <tr>\n",
       "      <th>max</th>\n",
       "      <td>4850.000000</td>\n",
       "      <td>1.000000e+16</td>\n",
       "      <td>88883.000000</td>\n",
       "      <td>2.000000e+06</td>\n",
       "      <td>99.000000</td>\n",
       "    </tr>\n",
       "  </tbody>\n",
       "</table>\n",
       "</div>"
      ],
      "text/plain": [
       "        WorkWeekHrs     CompTotal    Respondent  ConvertedComp           Age\n",
       "count  64503.000000  5.594500e+04  88883.000000   5.582300e+04  79210.000000\n",
       "mean      42.127197  5.519014e+11  44442.000000   1.271107e+05     30.336699\n",
       "std       37.287610  7.331926e+13  25658.456325   2.841523e+05      9.178390\n",
       "min        1.000000  0.000000e+00      1.000000   0.000000e+00      1.000000\n",
       "25%       40.000000  2.000000e+04  22221.500000   2.577750e+04     24.000000\n",
       "50%       40.000000  6.200000e+04  44442.000000   5.728700e+04     29.000000\n",
       "75%       44.750000  1.200000e+05  66662.500000   1.000000e+05     35.000000\n",
       "max     4850.000000  1.000000e+16  88883.000000   2.000000e+06     99.000000"
      ]
     },
     "execution_count": 38,
     "metadata": {},
     "output_type": "execute_result"
    }
   ],
   "source": [
    "# analysis of numerical columns\n",
    "df_19.describe()"
   ]
  },
  {
   "cell_type": "code",
   "execution_count": 39,
   "metadata": {},
   "outputs": [
    {
     "data": {
      "text/html": [
       "<div>\n",
       "<style scoped>\n",
       "    .dataframe tbody tr th:only-of-type {\n",
       "        vertical-align: middle;\n",
       "    }\n",
       "\n",
       "    .dataframe tbody tr th {\n",
       "        vertical-align: top;\n",
       "    }\n",
       "\n",
       "    .dataframe thead th {\n",
       "        text-align: right;\n",
       "    }\n",
       "</style>\n",
       "<table border=\"1\" class=\"dataframe\">\n",
       "  <thead>\n",
       "    <tr style=\"text-align: right;\">\n",
       "      <th></th>\n",
       "      <th>WorkWeekHrs</th>\n",
       "      <th>CompTotal</th>\n",
       "      <th>Respondent</th>\n",
       "      <th>ConvertedComp</th>\n",
       "      <th>Age</th>\n",
       "    </tr>\n",
       "  </thead>\n",
       "  <tbody>\n",
       "    <tr>\n",
       "      <th>count</th>\n",
       "      <td>41151.000000</td>\n",
       "      <td>3.482600e+04</td>\n",
       "      <td>64461.000000</td>\n",
       "      <td>3.475600e+04</td>\n",
       "      <td>45446.000000</td>\n",
       "    </tr>\n",
       "    <tr>\n",
       "      <th>mean</th>\n",
       "      <td>40.782174</td>\n",
       "      <td>3.190464e+242</td>\n",
       "      <td>32554.079738</td>\n",
       "      <td>1.037561e+05</td>\n",
       "      <td>30.834111</td>\n",
       "    </tr>\n",
       "    <tr>\n",
       "      <th>std</th>\n",
       "      <td>17.816383</td>\n",
       "      <td>inf</td>\n",
       "      <td>18967.442360</td>\n",
       "      <td>2.268853e+05</td>\n",
       "      <td>9.585392</td>\n",
       "    </tr>\n",
       "    <tr>\n",
       "      <th>min</th>\n",
       "      <td>1.000000</td>\n",
       "      <td>0.000000e+00</td>\n",
       "      <td>1.000000</td>\n",
       "      <td>0.000000e+00</td>\n",
       "      <td>1.000000</td>\n",
       "    </tr>\n",
       "    <tr>\n",
       "      <th>25%</th>\n",
       "      <td>40.000000</td>\n",
       "      <td>2.000000e+04</td>\n",
       "      <td>16116.000000</td>\n",
       "      <td>2.464800e+04</td>\n",
       "      <td>24.000000</td>\n",
       "    </tr>\n",
       "    <tr>\n",
       "      <th>50%</th>\n",
       "      <td>40.000000</td>\n",
       "      <td>6.300000e+04</td>\n",
       "      <td>32231.000000</td>\n",
       "      <td>5.404900e+04</td>\n",
       "      <td>29.000000</td>\n",
       "    </tr>\n",
       "    <tr>\n",
       "      <th>75%</th>\n",
       "      <td>44.000000</td>\n",
       "      <td>1.250000e+05</td>\n",
       "      <td>49142.000000</td>\n",
       "      <td>9.500000e+04</td>\n",
       "      <td>35.000000</td>\n",
       "    </tr>\n",
       "    <tr>\n",
       "      <th>max</th>\n",
       "      <td>475.000000</td>\n",
       "      <td>1.111111e+247</td>\n",
       "      <td>65639.000000</td>\n",
       "      <td>2.000000e+06</td>\n",
       "      <td>279.000000</td>\n",
       "    </tr>\n",
       "  </tbody>\n",
       "</table>\n",
       "</div>"
      ],
      "text/plain": [
       "        WorkWeekHrs      CompTotal    Respondent  ConvertedComp           Age\n",
       "count  41151.000000   3.482600e+04  64461.000000   3.475600e+04  45446.000000\n",
       "mean      40.782174  3.190464e+242  32554.079738   1.037561e+05     30.834111\n",
       "std       17.816383            inf  18967.442360   2.268853e+05      9.585392\n",
       "min        1.000000   0.000000e+00      1.000000   0.000000e+00      1.000000\n",
       "25%       40.000000   2.000000e+04  16116.000000   2.464800e+04     24.000000\n",
       "50%       40.000000   6.300000e+04  32231.000000   5.404900e+04     29.000000\n",
       "75%       44.000000   1.250000e+05  49142.000000   9.500000e+04     35.000000\n",
       "max      475.000000  1.111111e+247  65639.000000   2.000000e+06    279.000000"
      ]
     },
     "execution_count": 39,
     "metadata": {},
     "output_type": "execute_result"
    }
   ],
   "source": [
    "# analysis of numerical columns\n",
    "df_20.describe()"
   ]
  },
  {
   "cell_type": "markdown",
   "metadata": {},
   "source": [
    "We have 168 hour in a week, so select only the data with not more than 100 working hours a week."
   ]
  },
  {
   "cell_type": "code",
   "execution_count": 40,
   "metadata": {},
   "outputs": [
    {
     "name": "stdout",
     "output_type": "stream",
     "text": [
      "519\n",
      "185\n"
     ]
    }
   ],
   "source": [
    "# count rows data with more than 100 working hours per week\n",
    "print(df_19['WorkWeekHrs'].loc[df_19['WorkWeekHrs']>100].count())\n",
    "print(df_20['WorkWeekHrs'].loc[df_20['WorkWeekHrs']>100].count())"
   ]
  },
  {
   "cell_type": "code",
   "execution_count": 41,
   "metadata": {},
   "outputs": [],
   "source": [
    "# select only data with less than 100 working hours per week\n",
    "df_19 = df_19.drop(df_19[df_19['WorkWeekHrs']>100].index)\n",
    "df_20 = df_20.drop(df_20[df_20['WorkWeekHrs']>100].index)"
   ]
  },
  {
   "cell_type": "code",
   "execution_count": 42,
   "metadata": {},
   "outputs": [
    {
     "name": "stdout",
     "output_type": "stream",
     "text": [
      "2019_USD_salary filled 32984\n",
      "2020_USD_salary filled 29676\n",
      "2019_salary filled 32862\n",
      "2020_salary filled 29607\n",
      "2019_Working hours filled 24380\n",
      "2020_Working hours filled 23310\n"
     ]
    }
   ],
   "source": [
    "# count nulls for potential needed columns\n",
    "print('2019_USD_salary filled', df_19['ConvertedComp'].isna().sum())\n",
    "print('2020_USD_salary filled', df_20['ConvertedComp'].isna().sum())\n",
    "print('2019_salary filled', df_19['CompTotal'].isna().sum())\n",
    "print('2020_salary filled', df_20['CompTotal'].isna().sum())\n",
    "print('2019_Working hours filled', df_19['WorkWeekHrs'].isna().sum())\n",
    "print('2020_Working hours filled', df_20['WorkWeekHrs'].isna().sum())"
   ]
  },
  {
   "cell_type": "code",
   "execution_count": 43,
   "metadata": {},
   "outputs": [
    {
     "data": {
      "text/html": [
       "<div>\n",
       "<style scoped>\n",
       "    .dataframe tbody tr th:only-of-type {\n",
       "        vertical-align: middle;\n",
       "    }\n",
       "\n",
       "    .dataframe tbody tr th {\n",
       "        vertical-align: top;\n",
       "    }\n",
       "\n",
       "    .dataframe thead th {\n",
       "        text-align: right;\n",
       "    }\n",
       "</style>\n",
       "<table border=\"1\" class=\"dataframe\">\n",
       "  <thead>\n",
       "    <tr style=\"text-align: right;\">\n",
       "      <th></th>\n",
       "      <th>WorkWeekHrs</th>\n",
       "      <th>CompTotal</th>\n",
       "      <th>Respondent</th>\n",
       "      <th>ConvertedComp</th>\n",
       "      <th>Age</th>\n",
       "    </tr>\n",
       "  </thead>\n",
       "  <tbody>\n",
       "    <tr>\n",
       "      <th>count</th>\n",
       "      <td>40966.000000</td>\n",
       "      <td>3.466900e+04</td>\n",
       "      <td>64276.000000</td>\n",
       "      <td>3.460000e+04</td>\n",
       "      <td>45299.000000</td>\n",
       "    </tr>\n",
       "    <tr>\n",
       "      <th>mean</th>\n",
       "      <td>39.945497</td>\n",
       "      <td>3.204912e+242</td>\n",
       "      <td>32553.563445</td>\n",
       "      <td>1.037862e+05</td>\n",
       "      <td>30.831939</td>\n",
       "    </tr>\n",
       "    <tr>\n",
       "      <th>std</th>\n",
       "      <td>10.324478</td>\n",
       "      <td>inf</td>\n",
       "      <td>18971.028817</td>\n",
       "      <td>2.267737e+05</td>\n",
       "      <td>9.581971</td>\n",
       "    </tr>\n",
       "    <tr>\n",
       "      <th>min</th>\n",
       "      <td>1.000000</td>\n",
       "      <td>0.000000e+00</td>\n",
       "      <td>1.000000</td>\n",
       "      <td>0.000000e+00</td>\n",
       "      <td>1.000000</td>\n",
       "    </tr>\n",
       "    <tr>\n",
       "      <th>25%</th>\n",
       "      <td>40.000000</td>\n",
       "      <td>2.000000e+04</td>\n",
       "      <td>16112.750000</td>\n",
       "      <td>2.467800e+04</td>\n",
       "      <td>24.000000</td>\n",
       "    </tr>\n",
       "    <tr>\n",
       "      <th>50%</th>\n",
       "      <td>40.000000</td>\n",
       "      <td>6.300000e+04</td>\n",
       "      <td>32232.500000</td>\n",
       "      <td>5.404900e+04</td>\n",
       "      <td>29.000000</td>\n",
       "    </tr>\n",
       "    <tr>\n",
       "      <th>75%</th>\n",
       "      <td>43.000000</td>\n",
       "      <td>1.250000e+05</td>\n",
       "      <td>49149.250000</td>\n",
       "      <td>9.500000e+04</td>\n",
       "      <td>35.000000</td>\n",
       "    </tr>\n",
       "    <tr>\n",
       "      <th>max</th>\n",
       "      <td>100.000000</td>\n",
       "      <td>1.111111e+247</td>\n",
       "      <td>65639.000000</td>\n",
       "      <td>2.000000e+06</td>\n",
       "      <td>279.000000</td>\n",
       "    </tr>\n",
       "  </tbody>\n",
       "</table>\n",
       "</div>"
      ],
      "text/plain": [
       "        WorkWeekHrs      CompTotal    Respondent  ConvertedComp           Age\n",
       "count  40966.000000   3.466900e+04  64276.000000   3.460000e+04  45299.000000\n",
       "mean      39.945497  3.204912e+242  32553.563445   1.037862e+05     30.831939\n",
       "std       10.324478            inf  18971.028817   2.267737e+05      9.581971\n",
       "min        1.000000   0.000000e+00      1.000000   0.000000e+00      1.000000\n",
       "25%       40.000000   2.000000e+04  16112.750000   2.467800e+04     24.000000\n",
       "50%       40.000000   6.300000e+04  32232.500000   5.404900e+04     29.000000\n",
       "75%       43.000000   1.250000e+05  49149.250000   9.500000e+04     35.000000\n",
       "max      100.000000  1.111111e+247  65639.000000   2.000000e+06    279.000000"
      ]
     },
     "execution_count": 43,
     "metadata": {},
     "output_type": "execute_result"
    }
   ],
   "source": [
    "# explore the numerical data\n",
    "df_20.describe()"
   ]
  },
  {
   "cell_type": "markdown",
   "metadata": {},
   "source": [
    "Columns 'YearsCode' and 'YearsCodePro' are not numerical because of two values. Convert 'YearsCode' and 'YearsCodePro' into numeric, replace nulls with average value."
   ]
  },
  {
   "cell_type": "code",
   "execution_count": 44,
   "metadata": {},
   "outputs": [
    {
     "data": {
      "text/plain": [
       "array(['4', nan, '3', '16', '13', '6', '8', '12', '2', '5', '17', '10',\n",
       "       '14', '35', '7', 'Less than 1 year', '30', '9', '26', '40', '19',\n",
       "       '15', '20', '28', '25', '1', '22', '11', '33', '50', '41', '18',\n",
       "       '34', '24', '23', '42', '27', '21', '36', '32', '39', '38', '31',\n",
       "       '37', 'More than 50 years', '29', '44', '45', '48', '46', '43',\n",
       "       '47', '49'], dtype=object)"
      ]
     },
     "execution_count": 44,
     "metadata": {},
     "output_type": "execute_result"
    }
   ],
   "source": [
    "df_19['YearsCode'].unique()"
   ]
  },
  {
   "cell_type": "code",
   "execution_count": 45,
   "metadata": {},
   "outputs": [],
   "source": [
    "df_19.loc[(df_19['YearsCode']=='Less than 1 year'), 'YearsCode'] = 0\n",
    "df_20.loc[(df_20['YearsCode']=='Less than 1 year'), 'YearsCode'] = 0\n",
    "df_19.loc[(df_19['YearsCode']=='More than 50 years'), 'YearsCode'] = 50\n",
    "df_20.loc[(df_20['YearsCode']=='More than 50 years'), 'YearsCode'] = 50\n",
    "df_19['YearsCode'] = df_19['YearsCode'].astype(float)\n",
    "df_20['YearsCode'] = df_20['YearsCode'].astype(float)\n",
    "df_19.loc[(df_19['YearsCode'].isna()), 'YearsCode'] = df_19['YearsCode'].mean()\n",
    "df_20.loc[(df_20['YearsCode'].isna()), 'YearsCode'] = df_20['YearsCode'].mean()"
   ]
  },
  {
   "cell_type": "code",
   "execution_count": 46,
   "metadata": {},
   "outputs": [],
   "source": [
    "df_19.loc[(df_19['YearsCodePro']=='Less than 1 year'), 'YearsCodePro'] = 0\n",
    "df_20.loc[(df_20['YearsCodePro']=='Less than 1 year'), 'YearsCodePro'] = 0\n",
    "df_19.loc[(df_19['YearsCodePro']=='More than 50 years'), 'YearsCodePro'] = 50\n",
    "df_20.loc[(df_20['YearsCodePro']=='More than 50 years'), 'YearsCodePro'] = 50\n",
    "df_19['YearsCodePro'] = df_19['YearsCodePro'].astype(float)\n",
    "df_20['YearsCodePro'] = df_20['YearsCodePro'].astype(float)\n",
    "df_19.loc[(df_19['YearsCodePro'].isna()), 'YearsCodePro'] = df_19['YearsCodePro'].mean()\n",
    "df_20.loc[(df_20['YearsCodePro'].isna()), 'YearsCodePro'] = df_20['YearsCodePro'].mean()"
   ]
  },
  {
   "cell_type": "code",
   "execution_count": 47,
   "metadata": {},
   "outputs": [],
   "source": [
    "list_cols = df_19.columns.to_list()\n",
    "num_cols = ['Respondent', 'WorkWeekHrs', 'ConvertedComp', 'Age', 'CompTotal', 'YearsCodePro', 'YearsCode']\n",
    "cat_cols = set(list_cols).difference(set(num_cols))"
   ]
  },
  {
   "cell_type": "code",
   "execution_count": 48,
   "metadata": {},
   "outputs": [
    {
     "data": {
      "text/html": [
       "<div>\n",
       "<style scoped>\n",
       "    .dataframe tbody tr th:only-of-type {\n",
       "        vertical-align: middle;\n",
       "    }\n",
       "\n",
       "    .dataframe tbody tr th {\n",
       "        vertical-align: top;\n",
       "    }\n",
       "\n",
       "    .dataframe thead th {\n",
       "        text-align: right;\n",
       "    }\n",
       "</style>\n",
       "<table border=\"1\" class=\"dataframe\">\n",
       "  <thead>\n",
       "    <tr style=\"text-align: right;\">\n",
       "      <th></th>\n",
       "      <th>Column</th>\n",
       "      <th>QuestionText</th>\n",
       "    </tr>\n",
       "  </thead>\n",
       "  <tbody>\n",
       "    <tr>\n",
       "      <th>0</th>\n",
       "      <td>Respondent</td>\n",
       "      <td>Randomized respondent ID number (not in order of survey response time)</td>\n",
       "    </tr>\n",
       "    <tr>\n",
       "      <th>1</th>\n",
       "      <td>MainBranch</td>\n",
       "      <td>Which of the following options best describes you today? Here, by \"developer\" we mean \"someone who writes code.\"</td>\n",
       "    </tr>\n",
       "    <tr>\n",
       "      <th>2</th>\n",
       "      <td>Hobbyist</td>\n",
       "      <td>Do you code as a hobby?</td>\n",
       "    </tr>\n",
       "    <tr>\n",
       "      <th>3</th>\n",
       "      <td>OpenSourcer</td>\n",
       "      <td>How often do you contribute to open source?</td>\n",
       "    </tr>\n",
       "    <tr>\n",
       "      <th>4</th>\n",
       "      <td>OpenSource</td>\n",
       "      <td>How do you feel about the quality of open source software (OSS)?</td>\n",
       "    </tr>\n",
       "  </tbody>\n",
       "</table>\n",
       "</div>"
      ],
      "text/plain": [
       "        Column  \\\n",
       "0   Respondent   \n",
       "1   MainBranch   \n",
       "2     Hobbyist   \n",
       "3  OpenSourcer   \n",
       "4   OpenSource   \n",
       "\n",
       "                                                                                                       QuestionText  \n",
       "0                                            Randomized respondent ID number (not in order of survey response time)  \n",
       "1  Which of the following options best describes you today? Here, by \"developer\" we mean \"someone who writes code.\"  \n",
       "2                                                                                           Do you code as a hobby?  \n",
       "3                                                                       How often do you contribute to open source?  \n",
       "4                                                  How do you feel about the quality of open source software (OSS)?  "
      ]
     },
     "execution_count": 48,
     "metadata": {},
     "output_type": "execute_result"
    }
   ],
   "source": [
    "df_19_schema = pd.read_csv(\"C:\\\\Users\\\\qxz2f4p\\\\Documents\\\\git_dir\\\\Data_source\\\\2019_survey_results_schema.csv\")\n",
    "df_19_schema.head()"
   ]
  },
  {
   "cell_type": "markdown",
   "metadata": {},
   "source": [
    "For better understanding of categorical columns make a function df_vals to see the data of these columns"
   ]
  },
  {
   "cell_type": "code",
   "execution_count": 49,
   "metadata": {},
   "outputs": [],
   "source": [
    "def df_vals(df, cat_cols, df_schema):\n",
    "    '''\n",
    "    Print the values of provided columns of dataframe\n",
    "    INPUT:\n",
    "    df - dataframe,\n",
    "    cat_cols - columns to observe,\n",
    "    df_schema - schema of dataframe\n",
    "    OUTPUT:\n",
    "    statistics of cat_cols\n",
    "    '''\n",
    "    for col in cat_cols:\n",
    "        print(df_schema.loc[df_schema['Column'] == col])\n",
    "        print(df[col].value_counts())\n",
    "        print(\"{:.0f}\".format((1 - df[col].isna().sum()/df.shape[0])*100), '%')\n",
    "        print(\" \")\n",
    "        print(\" \")"
   ]
  },
  {
   "cell_type": "code",
   "execution_count": 50,
   "metadata": {},
   "outputs": [
    {
     "name": "stdout",
     "output_type": "stream",
     "text": [
      "       Column  \\\n",
      "80  Sexuality   \n",
      "\n",
      "                                                                                                                                          QuestionText  \n",
      "80  Which of the following do you currently identify as? Please select all that apply. If you prefer not to answer, you may leave this question blank.  \n",
      "Straight / Heterosexual                            69731\n",
      "Bisexual                                            3416\n",
      "Gay or Lesbian                                      1792\n",
      "Bisexual;Straight / Heterosexual                     490\n",
      "Bisexual;Gay or Lesbian                              114\n",
      "Bisexual;Gay or Lesbian;Straight / Heterosexual      106\n",
      "Gay or Lesbian;Straight / Heterosexual                38\n",
      "Name: Sexuality, dtype: int64\n",
      "86 %\n",
      " \n",
      " \n",
      "       Column  \\\n",
      "81  Ethnicity   \n",
      "\n",
      "                                                                                                                               QuestionText  \n",
      "81  Which of the following do you identify as? Please check all that apply. If you prefer not to answer, you may leave this question blank.  \n",
      "White or of European descent                                                                                                                                             50576\n",
      "South Asian                                                                                                                                                               8356\n",
      "East Asian                                                                                                                                                                3501\n",
      "Hispanic or Latino/Latina                                                                                                                                                 3464\n",
      "Middle Eastern                                                                                                                                                            2561\n",
      "                                                                                                                                                                         ...  \n",
      "Black or of African descent;Native American, Pacific Islander, or Indigenous Australian;Multiracial                                                                          1\n",
      "Hispanic or Latino/Latina;Native American, Pacific Islander, or Indigenous Australian;South Asian;White or of European descent;Multiracial                                   1\n",
      "Black or of African descent;East Asian;Hispanic or Latino/Latina;Native American, Pacific Islander, or Indigenous Australian;White or of European descent;Multiracial        1\n",
      "Black or of African descent;South Asian;Biracial                                                                                                                             1\n",
      "Black or of African descent;East Asian;Native American, Pacific Islander, or Indigenous Australian;South Asian;White or of European descent;Multiracial                      1\n",
      "Name: Ethnicity, Length: 195, dtype: int64\n",
      "86 %\n",
      " \n",
      " \n",
      "          Column  \\\n",
      "42  PurchaseWhat   \n",
      "\n",
      "                                                                                            QuestionText  \n",
      "42  What level of influence do you, personally, have over new technology purchases at your organization?  \n",
      "I have little or no influence       26499\n",
      "I have some influence               24064\n",
      "I have a great deal of influence    11038\n",
      "Name: PurchaseWhat, dtype: int64\n",
      "70 %\n",
      " \n",
      " \n",
      "                    Column  \\\n",
      "44  LanguageDesireNextYear   \n",
      "\n",
      "                                                                                                                                                                                                                                                                                            QuestionText  \n",
      "44  Which of the following programming, scripting, and markup languages have you done extensive development work in over the past year, and which do you want to work in over the next year?  (If you both worked with the language and want to continue to do so, please check both boxes in that row.)  \n",
      "Python                                                              1229\n",
      "HTML/CSS;JavaScript                                                  692\n",
      "HTML/CSS;JavaScript;TypeScript                                       640\n",
      "C#                                                                   600\n",
      "Java                                                                 583\n",
      "                                                                    ... \n",
      "Assembly;Bash/Shell/PowerShell;C#;F#;HTML/CSS;JavaScript;SQL           1\n",
      "C#;Dart;Java;Kotlin;Python;Swift;WebAssembly                           1\n",
      "C++;Go;Kotlin;Rust                                                     1\n",
      "Bash/Shell/PowerShell;C;C++;C#;Dart;Go;Java;Python;Ruby;Rust;SQL       1\n",
      "C;C++;HTML/CSS;Java;JavaScript;Kotlin;Python;R;Other(s):               1\n",
      "Name: LanguageDesireNextYear, Length: 27171, dtype: int64\n",
      "95 %\n",
      " \n",
      " \n",
      "    Column                               QuestionText\n",
      "6  Country  In which country do you currently reside?\n",
      "United States        20938\n",
      "India                 9044\n",
      "Germany               5844\n",
      "United Kingdom        5730\n",
      "Canada                3392\n",
      "                     ...  \n",
      "Tonga                    1\n",
      "Chad                     1\n",
      "Brunei Darussalam        1\n",
      "North Korea              1\n",
      "Papua New Guinea         1\n",
      "Name: Country, Length: 179, dtype: int64\n",
      "100 %\n",
      " \n",
      " \n",
      "           Column                                          QuestionText\n",
      "9  UndergradMajor  What was your main or most important field of study?\n",
      "Computer science, computer engineering, or software engineering          46915\n",
      "Another engineering discipline (ex. civil, electrical, mechanical)        6193\n",
      "Information systems, information technology, or system administration     5209\n",
      "Web development or web design                                             3396\n",
      "A natural science (ex. biology, chemistry, physics)                       3220\n",
      "Mathematics or statistics                                                 2962\n",
      "A business discipline (ex. accounting, finance, marketing)                1834\n",
      "A humanities discipline (ex. literature, history, philosophy)             1567\n",
      "A social science (ex. anthropology, psychology, political science)        1350\n",
      "Fine arts or performing arts (ex. graphic design, music, studio art)      1228\n",
      "I never declared a major                                                   972\n",
      "A health science (ex. nursing, pharmacy, radiology)                        321\n",
      "Name: UndergradMajor, dtype: int64\n",
      "85 %\n",
      " \n",
      " \n",
      "        Column                                        QuestionText\n",
      "84  SurveyEase  How easy or difficult was this survey to complete?\n",
      "Easy                          58251\n",
      "Neither easy nor difficult    26639\n",
      "Difficult                      1680\n",
      "Name: SurveyEase, dtype: int64\n",
      "98 %\n",
      " \n",
      " \n",
      "                Column  \\\n",
      "45  DatabaseWorkedWith   \n",
      "\n",
      "                                                                                                                                                                                                                                                                      QuestionText  \n",
      "45  Which of the following database environments have you done extensive development work in over the past year, and which do you want to work in over the next year?   (If you both worked with the database and want to continue to do so, please check both boxes in that row.)  \n",
      "MySQL                                                                                                  5528\n",
      "Microsoft SQL Server                                                                                   5131\n",
      "PostgreSQL                                                                                             2593\n",
      "SQLite                                                                                                 2009\n",
      "Microsoft SQL Server;MySQL                                                                             1861\n",
      "                                                                                                       ... \n",
      "Elasticsearch;MariaDB;MongoDB;Redis;Other(s):                                                             1\n",
      "Firebase;Microsoft SQL Server;PostgreSQL;Redis;SQLite;Other(s):                                           1\n",
      "Elasticsearch;Firebase;MariaDB;MongoDB;Microsoft SQL Server;MySQL;PostgreSQL;Redis;SQLite;Other(s):       1\n",
      "Couchbase;DynamoDB;Elasticsearch;Firebase;MariaDB;Microsoft SQL Server                                    1\n",
      "Cassandra;Elasticsearch;MariaDB;MySQL;PostgreSQL;SQLite;Other(s):                                         1\n",
      "Name: DatabaseWorkedWith, Length: 3470, dtype: int64\n",
      "85 %\n",
      " \n",
      " \n",
      "         Column                                            QuestionText\n",
      "65  SOVisitFreq  How frequently would you say you visit Stack Overflow?\n",
      "Daily or almost daily                                 26663\n",
      "Multiple times per day                                26581\n",
      "A few times per week                                  19893\n",
      "A few times per month or weekly                       11111\n",
      "Less than once per month or monthly                    2949\n",
      "I have never visited Stack Overflow (before today)      551\n"
     ]
    },
    {
     "name": "stdout",
     "output_type": "stream",
     "text": [
      "Name: SOVisitFreq, dtype: int64\n",
      "99 %\n",
      " \n",
      " \n",
      "           Column  \\\n",
      "75  WelcomeChange   \n",
      "\n",
      "                                                         QuestionText  \n",
      "75  Compared to last year, how welcome do you feel on Stack Overflow?  \n",
      "Just as welcome now as I felt last year                    62290\n",
      "Somewhat more welcome now than last year                    8803\n",
      "A lot more welcome now than last year                       4790\n",
      "Somewhat less welcome now than last year                    4228\n",
      "Not applicable - I did not use Stack Overflow last year     2664\n",
      "A lot less welcome now than last year                       2575\n",
      "Name: WelcomeChange, dtype: int64\n",
      "97 %\n",
      " \n",
      " \n",
      "        Column  \\\n",
      "71  SOPartFreq   \n",
      "\n",
      "                                                                                                                                     QuestionText  \n",
      "71  How frequently would you say you participate in Q&A on Stack Overflow? By participate we mean ask, answer, vote for, or comment on questions.  \n",
      "Less than once per month or monthly                   30272\n",
      "I have never participated in Q&A on Stack Overflow    17181\n",
      "A few times per month or weekly                       14015\n",
      "A few times per week                                   6999\n",
      "Daily or almost daily                                  3666\n",
      "Multiple times per day                                 2124\n",
      "Name: SOPartFreq, dtype: int64\n",
      "84 %\n",
      " \n",
      " \n",
      "                    Column  \\\n",
      "52  MiscTechDesireNextYear   \n",
      "\n",
      "                                                                                                                                                                                                                                                                                       QuestionText  \n",
      "52  Which of the following other frameworks, libraries, and tools have you done extensive development work in over the past year, and which do you want to work in over the next year? (If you both worked with the technology and want to continue to do so, please check both boxes in that row.)  \n",
      "Node.js                                                              6874\n",
      ".NET;.NET Core                                                       2790\n",
      "Node.js;React Native                                                 2549\n",
      "TensorFlow                                                           1470\n",
      ".NET                                                                 1414\n",
      "                                                                     ... \n",
      "Cordova;CryEngine;.NET;.NET Core;Unreal Engine                          1\n",
      "Hadoop;.NET;.NET Core;Node.js;Pandas;Puppet;Xamarin                     1\n",
      "Apache Spark;Cordova;Pandas;React Native;TensorFlow;Torch/PyTorch       1\n",
      "Hadoop;Puppet;React Native                                              1\n",
      ".NET;.NET Core;React Native;Torch/PyTorch;Unity 3D;Other(s):            1\n",
      "Name: MiscTechDesireNextYear, Length: 5549, dtype: int64\n",
      "73 %\n",
      " \n",
      " \n",
      "       Column                           QuestionText\n",
      "70  SOAccount  Do you have a Stack Overflow account?\n",
      "Yes                          74756\n",
      "No                            8281\n",
      "Not sure / can't remember     4283\n",
      "Name: SOAccount, dtype: int64\n",
      "99 %\n",
      " \n",
      " \n",
      "     Column             QuestionText\n",
      "2  Hobbyist  Do you code as a hobby?\n",
      "Yes    70834\n",
      "No     17530\n",
      "Name: Hobbyist, dtype: int64\n",
      "100 %\n",
      " \n",
      " \n",
      "       Column  \\\n",
      "5  Employment   \n",
      "\n",
      "                                                            QuestionText  \n",
      "5  Which of the following best describes your current employment status?  \n",
      "Employed full-time                                      64021\n",
      "Independent contractor, freelancer, or self-employed     8434\n",
      "Not employed, but looking for work                       5600\n",
      "Employed part-time                                       4453\n",
      "Not employed, and not looking for work                   3803\n",
      "Retired                                                   358\n",
      "Name: Employment, dtype: int64\n",
      "98 %\n",
      " \n",
      " \n",
      "   Column                     QuestionText\n",
      "79  Trans  Do you identify as transgender?\n",
      "No     82094\n",
      "Yes     1019\n",
      "Name: Trans, dtype: int64\n",
      "94 %\n",
      " \n",
      " \n",
      "                Column  \\\n",
      "47  PlatformWorkedWith   \n",
      "\n",
      "                                                                                                                                                                                                        QuestionText  \n",
      "47  Which of the following platforms have you done extensive development work for over the past year?   (If you both developed for the platform and want to continue to do so, please check both boxes in that row.)  \n",
      "Windows                                                                                                             6990\n",
      "Linux;Windows                                                                                                       3314\n",
      "Linux                                                                                                               3286\n",
      "Android                                                                                                             1953\n",
      "Microsoft Azure;Windows                                                                                             1191\n",
      "                                                                                                                    ... \n",
      "AWS;Google Cloud Platform;MacOS;Slack;WordPress                                                                        1\n",
      "Arduino;AWS;Google Cloud Platform;IBM Cloud or Watson;Linux;MacOS;Microsoft Azure;Raspberry Pi;Windows;Other(s):       1\n",
      "Arduino;Docker;IBM Cloud or Watson;iOS;MacOS                                                                           1\n",
      "Docker;Google Cloud Platform;Kubernetes;Microsoft Azure;Raspberry Pi                                                   1\n",
      "Android;AWS;Kubernetes;MacOS;Slack;Windows                                                                             1\n",
      "Name: PlatformWorkedWith, Length: 8698, dtype: int64\n",
      "91 %\n",
      " \n",
      " \n",
      "    Column  \\\n",
      "8  EdLevel   \n",
      "\n",
      "                                                                                         QuestionText  \n",
      "8  Which of the following best describes the highest level of formal education that you’ve completed?  \n",
      "Bachelor’s degree (BA, BS, B.Eng., etc.)                                              38952\n",
      "Master’s degree (MA, MS, M.Eng., MBA, etc.)                                           19423\n",
      "Some college/university study without earning a degree                                10420\n",
      "Secondary school (e.g. American high school, German Realschule or Gymnasium, etc.)     8597\n",
      "Associate degree                                                                       2920\n",
      "Other doctoral degree (Ph.D, Ed.D., etc.)                                              2425\n",
      "Primary/elementary school                                                              1416\n",
      "Professional degree (JD, MD, etc.)                                                     1192\n",
      "I never completed any formal education                                                  543\n",
      "Name: EdLevel, dtype: int64\n",
      "97 %\n",
      " \n",
      " \n",
      "        Column  \\\n",
      "25  JobFactors   \n",
      "\n",
      "                                                                                                                                                             QuestionText  \n",
      "25  Imagine that you are deciding between two job offers with the same compensation, benefits, and location. Of the following factors, which 3 are MOST important to you?  \n",
      "Languages, frameworks, and other technologies I'd be working with;Office environment or company culture;Opportunities for professional development    4958\n",
      "Languages, frameworks, and other technologies I'd be working with;Office environment or company culture;Flex time or a flexible schedule              4907\n",
      "Languages, frameworks, and other technologies I'd be working with;Remote work options;Flex time or a flexible schedule                                4669\n",
      "Office environment or company culture;Opportunities for professional development;Flex time or a flexible schedule                                     3300\n",
      "Languages, frameworks, and other technologies I'd be working with;Opportunities for professional development;Flex time or a flexible schedule         3219\n",
      "                                                                                                                                                      ... \n",
      "Diversity of the company or organization;How widely used or impactful my work output would be                                                            4\n",
      "Financial performance or funding status of the company or organization;Diversity of the company or organization                                          2\n",
      "Remote work options;Diversity of the company or organization                                                                                             2\n",
      "Specific department or team I'd be working on;Diversity of the company or organization                                                                   2\n",
      "Diversity of the company or organization;Flex time or a flexible schedule                                                                                1\n",
      "Name: JobFactors, Length: 175, dtype: int64\n",
      "89 %\n",
      " \n",
      " \n",
      "     Column  \\\n",
      "12  DevType   \n",
      "\n",
      "                                                          QuestionText  \n",
      "12  Which of the following describe you? Please select all that apply.  \n",
      "Developer, full-stack                                                                                                                                                                                                                                                                               8389\n",
      "Developer, back-end                                                                                                                                                                                                                                                                                 4885\n",
      "Developer, back-end;Developer, front-end;Developer, full-stack                                                                                                                                                                                                                                      2382\n",
      "Developer, front-end                                                                                                                                                                                                                                                                                2199\n",
      "Developer, mobile                                                                                                                                                                                                                                                                                   2158\n",
      "                                                                                                                                                                                                                                                                                                    ... \n",
      "Academic researcher;Data or business analyst;Data scientist or machine learning specialist;Database administrator;Designer;Developer, back-end;Developer, desktop or enterprise applications;Educator;Engineer, data;Engineer, site reliability;Senior executive/VP;Student;System administrator       1\n",
      "Developer, back-end;Developer, desktop or enterprise applications;Developer, QA or test;DevOps specialist;Product manager                                                                                                                                                                              1\n",
      "Academic researcher;Data or business analyst;Data scientist or machine learning specialist;Designer;Developer, desktop or enterprise applications;Developer, embedded applications or devices;Developer, front-end;Developer, full-stack;Developer, mobile;Developer, QA or test;Student               1\n",
      "Designer;Developer, back-end;Developer, desktop or enterprise applications;Developer, embedded applications or devices;Developer, front-end;Developer, mobile;Scientist                                                                                                                                1\n",
      "Database administrator;Developer, back-end;Developer, desktop or enterprise applications;Developer, front-end;Product manager                                                                                                                                                                          1\n",
      "Name: DevType, Length: 13094, dtype: int64\n",
      "91 %\n",
      " \n",
      " \n",
      "     Column  \\\n",
      "21  JobSeek   \n",
      "\n",
      "                                                              QuestionText  \n",
      "21  Which of the following best describes your current job-seeking status?  \n"
     ]
    },
    {
     "name": "stdout",
     "output_type": "stream",
     "text": [
      "I’m not actively looking, but I am open to new opportunities    46953\n",
      "I am not interested in new job opportunities                    20937\n",
      "I am actively looking for a job                                 12146\n",
      "Name: JobSeek, dtype: int64\n",
      "91 %\n",
      " \n",
      " \n",
      "          Column                                               QuestionText\n",
      "83  SurveyLength  How do you feel about the length of the survey this year?\n",
      "Appropriate in length    57535\n",
      "Too long                 27149\n",
      "Too short                 1789\n",
      "Name: SurveyLength, dtype: int64\n",
      "98 %\n",
      " \n",
      " \n",
      "    Column  \\\n",
      "17  JobSat   \n",
      "\n",
      "                                                                                                                 QuestionText  \n",
      "17  How satisfied are you with your current job? (If you work multiple jobs, answer for the one you spend the most hours on.)  \n",
      "Slightly satisfied                    24040\n",
      "Very satisfied                        22285\n",
      "Slightly dissatisfied                 10679\n",
      "Neither satisfied nor dissatisfied     8647\n",
      "Very dissatisfied                      4819\n",
      "Name: JobSat, dtype: int64\n",
      "80 %\n",
      " \n",
      " \n",
      "       Column  \\\n",
      "1  MainBranch   \n",
      "\n",
      "                                                                                                       QuestionText  \n",
      "1  Which of the following options best describes you today? Here, by \"developer\" we mean \"someone who writes code.\"  \n",
      "I am a developer by profession                                                   65208\n",
      "I am a student who is learning to code                                           10189\n",
      "I am not primarily a developer, but I write code sometimes as part of my work     7491\n",
      "I code primarily as a hobby                                                       3340\n",
      "I used to be a developer by profession, but no longer am                          1584\n",
      "Name: MainBranch, dtype: int64\n",
      "99 %\n",
      " \n",
      " \n",
      "                Column  \\\n",
      "51  MiscTechWorkedWith   \n",
      "\n",
      "                                                                                                                                                                                                                                                                                       QuestionText  \n",
      "51  Which of the following other frameworks, libraries, and tools have you done extensive development work in over the past year, and which do you want to work in over the next year? (If you both worked with the technology and want to continue to do so, please check both boxes in that row.)  \n",
      "Node.js                                                                              10500\n",
      ".NET                                                                                  4982\n",
      ".NET;.NET Core                                                                        4487\n",
      ".NET;.NET Core;Node.js                                                                2272\n",
      "Pandas                                                                                1690\n",
      "                                                                                     ...  \n",
      "Ansible;Chef;Hadoop;Node.js;Pandas;Xamarin                                               1\n",
      "Ansible;Apache Spark;Hadoop;.NET;.NET Core;Node.js;Xamarin                               1\n",
      "Ansible;Apache Spark;CryEngine;.NET;.NET Core;Node.js;Pandas                             1\n",
      "Ansible;React Native;Unity 3D                                                            1\n",
      "Apache Spark;Cordova;Hadoop;.NET Core;Node.js;React Native;Unity 3D;Unreal Engine        1\n",
      "Name: MiscTechWorkedWith, Length: 2769, dtype: int64\n",
      "67 %\n",
      " \n",
      " \n",
      "          Column  \\\n",
      "28  CurrencyDesc   \n",
      "\n",
      "                                                                                                                       QuestionText  \n",
      "28  Which currency do you use day-to-day? If your answer is complicated, please pick the one you're most comfortable estimating in.  \n",
      "United States dollar      19456\n",
      "European Euro             15208\n",
      "Indian rupee               6676\n",
      "Pound sterling             4897\n",
      "Canadian dollar            2677\n",
      "                          ...  \n",
      "Somali shilling               1\n",
      "e\\tCook Islands dollar        1\n",
      "Malawian kwacha               1\n",
      "Guyanese dollar               1\n",
      "Bhutanese ngultrum            1\n",
      "Name: CurrencyDesc, Length: 143, dtype: int64\n",
      "80 %\n",
      " \n",
      " \n",
      "    Column                                                        QuestionText\n",
      "74  SOComm  Do you consider yourself a member of the Stack Overflow community?\n",
      "Yes, somewhat      27299\n",
      "No, not really     19744\n",
      "Neutral            17788\n",
      "Yes, definitely    15215\n",
      "No, not at all      6403\n",
      "Not sure            1165\n",
      "Name: SOComm, dtype: int64\n",
      "99 %\n",
      " \n",
      " \n",
      "   Column                                             QuestionText\n",
      "54  OpSys  What is the primary operating system in which you work?\n",
      "Windows        41466\n",
      "MacOS          23395\n",
      "Linux-based    22356\n",
      "BSD              123\n",
      "Name: OpSys, dtype: int64\n",
      "99 %\n",
      " \n",
      " \n",
      "        Column  \\\n",
      "14  Age1stCode   \n",
      "\n",
      "                                                                                                   QuestionText  \n",
      "14  At what age did you write your first line of code or program? (E.g., webpage, Hello World, Scratch project)  \n",
      "15    8625\n",
      "16    8585\n",
      "14    8393\n",
      "18    7913\n",
      "12    7684\n",
      "      ... \n",
      "68       1\n",
      "62       1\n",
      "57       1\n",
      "67       1\n",
      "58       1\n",
      "Name: Age1stCode, Length: 68, dtype: int64\n",
      "99 %\n",
      " \n",
      " \n",
      "                    Column  \\\n",
      "48  PlatformDesireNextYear   \n",
      "\n",
      "                                                                                                                                                                                                        QuestionText  \n",
      "48  Which of the following platforms have you done extensive development work for over the past year?   (If you both developed for the platform and want to continue to do so, please check both boxes in that row.)  \n",
      "Linux                                                                                3272\n",
      "Windows                                                                              2951\n",
      "Linux;Windows                                                                        1687\n",
      "Android                                                                              1499\n",
      "Docker;Linux                                                                         1091\n",
      "                                                                                     ... \n",
      "Android;AWS;Google Cloud Platform;Kubernetes;Windows                                    1\n",
      "Android;MacOS;Raspberry Pi;Windows                                                      1\n",
      "AWS;Google Cloud Platform;Heroku;IBM Cloud or Watson;iOS;Linux;MacOS;Raspberry Pi       1\n",
      "Android;Docker;Google Cloud Platform;iOS;Linux;MacOS;Raspberry Pi;Other(s):             1\n",
      "Docker;IBM Cloud or Watson;Kubernetes;Linux;Slack;Windows;Other(s):                     1\n",
      "Name: PlatformDesireNextYear, Length: 10762, dtype: int64\n",
      "87 %\n",
      " \n",
      " \n",
      "            Column  \\\n",
      "27  CurrencySymbol   \n",
      "\n",
      "                                                                                                                       QuestionText  \n",
      "27  Which currency do you use day-to-day? If your answer is complicated, please pick the one you're most comfortable estimating in.  \n",
      "USD    19456\n",
      "EUR    15208\n",
      "INR     6676\n",
      "GBP     4897\n",
      "CAD     2677\n",
      "       ...  \n",
      "SCR        1\n",
      "FKP        1\n",
      "SOS        1\n",
      "WST        1\n",
      "GYD        1\n",
      "Name: CurrencySymbol, Length: 143, dtype: int64\n",
      "80 %\n",
      " \n",
      " \n",
      "                    Column  \\\n",
      "46  DatabaseDesireNextYear   \n",
      "\n",
      "                                                                                                                                                                                                                                                                      QuestionText  \n",
      "46  Which of the following database environments have you done extensive development work in over the past year, and which do you want to work in over the next year?   (If you both worked with the database and want to continue to do so, please check both boxes in that row.)  \n",
      "PostgreSQL                                                                    3514\n",
      "Microsoft SQL Server                                                          3269\n",
      "MySQL                                                                         3167\n",
      "MongoDB                                                                       2240\n",
      "SQLite                                                                        1492\n",
      "                                                                              ... \n",
      "DynamoDB;Elasticsearch;Microsoft SQL Server;MySQL;Oracle;PostgreSQL;Redis        1\n",
      "Cassandra;DynamoDB;Firebase;MariaDB;Oracle                                       1\n",
      "Couchbase;Firebase;MariaDB;MySQL;PostgreSQL                                      1\n",
      "Couchbase;Elasticsearch;Firebase;MongoDB;Oracle;PostgreSQL;Redis;Other(s):       1\n",
      "Elasticsearch;MongoDB;PostgreSQL;SQLite;Other(s):                                1\n",
      "Name: DatabaseDesireNextYear, Length: 3910, dtype: int64\n",
      "78 %\n",
      " \n",
      " \n",
      "    Column  \\\n",
      "78  Gender   \n",
      "\n",
      "                                                                                                                                          QuestionText  \n",
      "78  Which of the following do you currently identify as? Please select all that apply. If you prefer not to answer, you may leave this question blank.  \n",
      "Man                                                            77454\n",
      "Woman                                                           6316\n",
      "Non-binary, genderqueer, or gender non-conforming                592\n",
      "Man;Non-binary, genderqueer, or gender non-conforming            180\n",
      "Woman;Non-binary, genderqueer, or gender non-conforming          162\n",
      "Woman;Man                                                        131\n",
      "Woman;Man;Non-binary, genderqueer, or gender non-conforming       68\n",
      "Name: Gender, dtype: int64\n",
      "96 %\n",
      " \n",
      " \n",
      "     Column  \\\n",
      "11  OrgSize   \n",
      "\n",
      "                                                                               QuestionText  \n",
      "11  Approximately how many people are employed by the company or organization you work for?  \n",
      "20 to 99 employees                                    15070\n",
      "100 to 499 employees                                  12748\n",
      "10,000 or more employees                              10094\n",
      "1,000 to 4,999 employees                               7468\n",
      "2-9 employees                                          7337\n",
      "10 to 19 employees                                     6719\n",
      "500 to 999 employees                                   4541\n",
      "Just me - I am a freelancer, sole proprietor, etc.     4334\n",
      "5,000 to 9,999 employees                               2973\n",
      "Name: OrgSize, dtype: int64\n"
     ]
    },
    {
     "name": "stdout",
     "output_type": "stream",
     "text": [
      "81 %\n",
      " \n",
      " \n",
      "                Column  \\\n",
      "43  LanguageWorkedWith   \n",
      "\n",
      "                                                                                                                                                                                                                                                                                            QuestionText  \n",
      "43  Which of the following programming, scripting, and markup languages have you done extensive development work in over the past year, and which do you want to work in over the next year?  (If you both worked with the language and want to continue to do so, please check both boxes in that row.)  \n",
      "HTML/CSS;JavaScript;PHP;SQL                                                         1471\n",
      "C#;HTML/CSS;JavaScript;SQL                                                          1406\n",
      "HTML/CSS;JavaScript                                                                 1242\n",
      "C#;HTML/CSS;JavaScript;SQL;TypeScript                                                981\n",
      "Java                                                                                 930\n",
      "                                                                                    ... \n",
      "C++;C#;HTML/CSS;JavaScript;Ruby;TypeScript;Other(s):                                   1\n",
      "Assembly;Bash/Shell/PowerShell;C;C++;Erlang;HTML/CSS;Java;Python;SQL;VBA               1\n",
      "C;C++;C#;Dart;HTML/CSS;Java;Python;SQL                                                 1\n",
      "Bash/Shell/PowerShell;C;Go;HTML/CSS;Java;JavaScript;Kotlin;Objective-C;SQL;Swift       1\n",
      "Assembly;C;JavaScript;Python;SQL;VBA                                                   1\n",
      "Name: LanguageWorkedWith, Length: 20019, dtype: int64\n",
      "99 %\n",
      " \n",
      " \n",
      "      Column                                      QuestionText\n",
      "30  CompFreq  Is that compensation weekly, monthly, or yearly?\n",
      "Yearly     31393\n",
      "Monthly    28683\n",
      "Weekly      2688\n",
      "Name: CompFreq, dtype: int64\n",
      "71 %\n",
      " \n",
      " \n"
     ]
    }
   ],
   "source": [
    "df_vals(df_19, cat_cols, df_19_schema)"
   ]
  },
  {
   "cell_type": "markdown",
   "metadata": {},
   "source": [
    "## Methodology"
   ]
  },
  {
   "cell_type": "markdown",
   "metadata": {},
   "source": [
    "\n",
    "### Feature engineering and machine learning algorithms to predict job satisfaction for IT worker\n",
    "\n",
    "Make a data preprocessing and data processing (Machine learning algorithms) for predicting of job satisfaction (multiclass classification)"
   ]
  },
  {
   "cell_type": "markdown",
   "metadata": {},
   "source": [
    "#### Data preprocessing"
   ]
  },
  {
   "cell_type": "code",
   "execution_count": 51,
   "metadata": {},
   "outputs": [],
   "source": [
    "# columns of features for job satisfaction predicting \n",
    "jb_stf_cols = ['Employment', 'OrgSize', 'DevType', 'JobSat', 'JobFactors', 'WorkWeekHrs', 'YearsCode', 'YearsCodePro']\n",
    "stf_19 = df_19[jb_stf_cols]\n",
    "stf_20 = df_20[jb_stf_cols]"
   ]
  },
  {
   "cell_type": "code",
   "execution_count": 52,
   "metadata": {},
   "outputs": [
    {
     "name": "stdout",
     "output_type": "stream",
     "text": [
      "(63984, 8)\n",
      "(40966, 8)\n"
     ]
    }
   ],
   "source": [
    "# clean the data\n",
    "stf_19 = stf_19.dropna(subset = ['WorkWeekHrs'])\n",
    "stf_20 = stf_20.dropna(subset = ['WorkWeekHrs'])\n",
    "print(stf_19.shape)\n",
    "print(stf_20.shape)"
   ]
  },
  {
   "cell_type": "code",
   "execution_count": 53,
   "metadata": {},
   "outputs": [
    {
     "name": "stdout",
     "output_type": "stream",
     "text": [
      "(63851, 8)\n",
      "(40878, 8)\n"
     ]
    }
   ],
   "source": [
    "hr_week = 84\n",
    "stf_19.drop(stf_19['WorkWeekHrs'].loc[stf_19['WorkWeekHrs'] > hr_week].index, inplace=True)\n",
    "stf_20.drop(stf_20['WorkWeekHrs'].loc[stf_20['WorkWeekHrs'] > hr_week].index, inplace=True)\n",
    "print(stf_19.shape)\n",
    "print(stf_20.shape)"
   ]
  },
  {
   "cell_type": "code",
   "execution_count": 54,
   "metadata": {},
   "outputs": [
    {
     "name": "stdout",
     "output_type": "stream",
     "text": [
      "Employment     99.70 %\n",
      "OrgSize     97.78 %\n",
      "DevType     98.58 %\n",
      "JobSat     99.85 %\n",
      "JobFactors     99.60 %\n",
      "WorkWeekHrs     100.00 %\n",
      "YearsCode     100.00 %\n",
      "YearsCodePro     100.00 %\n",
      "\n",
      "Employment     99.82 %\n",
      "OrgSize     98.15 %\n",
      "DevType     98.73 %\n",
      "JobSat     99.77 %\n",
      "JobFactors     94.44 %\n",
      "WorkWeekHrs     100.00 %\n",
      "YearsCode     100.00 %\n",
      "YearsCodePro     100.00 %\n"
     ]
    }
   ],
   "source": [
    "def df_fullness(df, attr=df.columns):\n",
    "    '''\n",
    "    estimation how populated dataframe\n",
    "    INPUT:\n",
    "    df - dataframe\n",
    "    attr - columns to estimate population\n",
    "    OUTPUT:\n",
    "    population statistics\n",
    "    '''\n",
    "    \n",
    "    for col in attr:\n",
    "        print(col, '   ', \"{:.2f}\".format((1 - df[col].isna().sum()/df.shape[0])*100), '%')\n",
    "df_fullness(stf_19, jb_stf_cols)\n",
    "print()\n",
    "df_fullness(stf_20, jb_stf_cols)"
   ]
  },
  {
   "cell_type": "code",
   "execution_count": 55,
   "metadata": {},
   "outputs": [
    {
     "name": "stdout",
     "output_type": "stream",
     "text": [
      "       Column  \\\n",
      "5  Employment   \n",
      "\n",
      "                                                            QuestionText  \n",
      "5  Which of the following best describes your current employment status?  \n",
      "Employed full-time                                      55740\n",
      "Independent contractor, freelancer, or self-employed     5558\n",
      "Employed part-time                                       2360\n",
      "Name: Employment, dtype: int64\n",
      "100 %\n",
      " \n",
      " \n",
      "     Column  \\\n",
      "11  OrgSize   \n",
      "\n",
      "                                                                               QuestionText  \n",
      "11  Approximately how many people are employed by the company or organization you work for?  \n",
      "20 to 99 employees                                    13573\n",
      "100 to 499 employees                                  11434\n",
      "10,000 or more employees                               8892\n",
      "1,000 to 4,999 employees                               6647\n",
      "2-9 employees                                          6266\n",
      "10 to 19 employees                                     5957\n",
      "500 to 999 employees                                   4053\n",
      "Just me - I am a freelancer, sole proprietor, etc.     2945\n",
      "5,000 to 9,999 employees                               2664\n",
      "Name: OrgSize, dtype: int64\n",
      "98 %\n",
      " \n",
      " \n",
      "     Column  \\\n",
      "12  DevType   \n",
      "\n",
      "                                                          QuestionText  \n",
      "12  Which of the following describe you? Please select all that apply.  \n",
      "Developer, full-stack                                                                                                                                                                                                                                                              7350\n",
      "Developer, back-end                                                                                                                                                                                                                                                                4249\n",
      "Developer, back-end;Developer, front-end;Developer, full-stack                                                                                                                                                                                                                     2096\n",
      "Developer, front-end                                                                                                                                                                                                                                                               1848\n",
      "Developer, back-end;Developer, full-stack                                                                                                                                                                                                                                          1806\n",
      "                                                                                                                                                                                                                                                                                   ... \n",
      "Developer, back-end;Developer, embedded applications or devices;DevOps specialist;Product manager;Senior executive/VP                                                                                                                                                                 1\n",
      "Developer, back-end;Developer, front-end;Developer, full-stack;Educator;Product manager;Student                                                                                                                                                                                       1\n",
      "Database administrator;Developer, back-end;Developer, full-stack;Senior executive/VP;System administrator                                                                                                                                                                             1\n",
      "Data or business analyst;Database administrator;Developer, back-end;Developer, desktop or enterprise applications;Developer, front-end;Developer, full-stack;Developer, game or graphics;Developer, QA or test;DevOps specialist;Engineer, site reliability;Engineering manager       1\n",
      "Database administrator;Developer, back-end;Developer, full-stack;Developer, mobile;Developer, QA or test;DevOps specialist;Product manager                                                                                                                                            1\n",
      "Name: DevType, Length: 10313, dtype: int64\n",
      "99 %\n",
      " \n",
      " \n",
      "    Column  \\\n",
      "17  JobSat   \n",
      "\n",
      "                                                                                                                 QuestionText  \n",
      "17  How satisfied are you with your current job? (If you work multiple jobs, answer for the one you spend the most hours on.)  \n",
      "Slightly satisfied                    21923\n",
      "Very satisfied                        20291\n",
      "Slightly dissatisfied                  9772\n",
      "Neither satisfied nor dissatisfied     7444\n",
      "Very dissatisfied                      4327\n",
      "Name: JobSat, dtype: int64\n",
      "100 %\n",
      " \n",
      " \n",
      "        Column  \\\n",
      "25  JobFactors   \n",
      "\n",
      "                                                                                                                                                             QuestionText  \n",
      "25  Imagine that you are deciding between two job offers with the same compensation, benefits, and location. Of the following factors, which 3 are MOST important to you?  \n",
      "Languages, frameworks, and other technologies I'd be working with;Office environment or company culture;Flex time or a flexible schedule              4179\n",
      "Languages, frameworks, and other technologies I'd be working with;Office environment or company culture;Opportunities for professional development    4086\n",
      "Languages, frameworks, and other technologies I'd be working with;Remote work options;Flex time or a flexible schedule                                3981\n",
      "Office environment or company culture;Opportunities for professional development;Flex time or a flexible schedule                                     2703\n",
      "Languages, frameworks, and other technologies I'd be working with;Opportunities for professional development;Flex time or a flexible schedule         2651\n",
      "                                                                                                                                                      ... \n",
      "Remote work options;Diversity of the company or organization                                                                                             2\n",
      "Opportunities for professional development;Diversity of the company or organization                                                                      1\n",
      "Industry that I'd be working in;Financial performance or funding status of the company or organization                                                   1\n",
      "Financial performance or funding status of the company or organization;Specific department or team I'd be working on                                     1\n",
      "Specific department or team I'd be working on;Diversity of the company or organization                                                                   1\n",
      "Name: JobFactors, Length: 172, dtype: int64\n",
      "100 %\n",
      " \n",
      " \n",
      "         Column                                      QuestionText\n",
      "32  WorkWeekHrs  On average, how many hours per week do you work?\n",
      "40.0    30131\n",
      "45.0     6352\n",
      "50.0     4656\n",
      "35.0     3159\n",
      "37.5     1662\n",
      "        ...  \n",
      "37.6        1\n",
      "57.5        1\n",
      "38.3        1\n",
      "9.6         1\n",
      "6.3         1\n",
      "Name: WorkWeekHrs, Length: 164, dtype: int64\n",
      "100 %\n",
      " \n",
      " \n",
      "       Column                                                   QuestionText\n",
      "13  YearsCode  Including any education, how many years have you been coding?\n",
      "10.000000    5525\n",
      "5.000000     4560\n",
      "6.000000     4411\n",
      "8.000000     4194\n",
      "7.000000     3996\n",
      "15.000000    3373\n",
      "4.000000     3201\n",
      "20.000000    3105\n",
      "12.000000    2999\n",
      "9.000000     2707\n",
      "3.000000     2474\n",
      "11.000000    1915\n",
      "14.000000    1811\n",
      "13.000000    1746\n",
      "18.000000    1664\n",
      "2.000000     1546\n",
      "25.000000    1388\n",
      "16.000000    1386\n",
      "30.000000    1238\n",
      "17.000000    1207\n",
      "22.000000     909\n",
      "19.000000     871\n",
      "35.000000     708\n",
      "23.000000     642\n",
      "21.000000     623\n",
      "24.000000     581\n",
      "1.000000      518\n",
      "28.000000     388\n",
      "40.000000     382\n",
      "27.000000     356\n",
      "32.000000     354\n",
      "26.000000     344\n",
      "33.000000     294\n",
      "38.000000     277\n",
      "37.000000     269\n",
      "34.000000     268\n",
      "36.000000     260\n",
      "0.000000      238\n",
      "29.000000     197\n",
      "31.000000     173\n",
      "39.000000     140\n",
      "11.662061     126\n",
      "42.000000      93\n",
      "45.000000      74\n",
      "41.000000      74\n",
      "43.000000      68\n",
      "50.000000      54\n",
      "44.000000      43\n",
      "47.000000      25\n",
      "48.000000      20\n",
      "49.000000      18\n",
      "46.000000      18\n"
     ]
    },
    {
     "name": "stdout",
     "output_type": "stream",
     "text": [
      "Name: YearsCode, dtype: int64\n",
      "100 %\n",
      " \n",
      " \n",
      "          Column  \\\n",
      "15  YearsCodePro   \n",
      "\n",
      "                                                              QuestionText  \n",
      "15  How many years have you coded professionally (as a part of your work)?  \n",
      "2.000000     6780\n",
      "3.000000     6717\n",
      "5.000000     5631\n",
      "4.000000     5496\n",
      "6.000000     3979\n",
      "10.000000    3747\n",
      "1.000000     3612\n",
      "7.000000     3195\n",
      "0.000000     3085\n",
      "8.000000     3017\n",
      "12.000000    1946\n",
      "15.000000    1796\n",
      "9.000000     1751\n",
      "20.000000    1738\n",
      "11.000000    1469\n",
      "13.000000    1243\n",
      "18.000000    1029\n",
      "14.000000     992\n",
      "16.000000     674\n",
      "19.000000     673\n",
      "22.000000     599\n",
      "25.000000     597\n",
      "17.000000     547\n",
      "21.000000     481\n",
      "30.000000     447\n",
      "23.000000     393\n",
      "24.000000     279\n",
      "8.164072      212\n",
      "28.000000     188\n",
      "35.000000     181\n",
      "26.000000     177\n",
      "27.000000     165\n",
      "32.000000     161\n",
      "33.000000     114\n",
      "29.000000     104\n",
      "31.000000      99\n",
      "34.000000      90\n",
      "40.000000      88\n",
      "38.000000      68\n",
      "36.000000      67\n",
      "37.000000      54\n",
      "39.000000      46\n",
      "42.000000      22\n",
      "50.000000      21\n",
      "43.000000      18\n",
      "41.000000      18\n",
      "44.000000      13\n",
      "45.000000      11\n",
      "46.000000       7\n",
      "48.000000       7\n",
      "49.000000       4\n",
      "47.000000       3\n",
      "Name: YearsCodePro, dtype: int64\n",
      "100 %\n",
      " \n",
      " \n"
     ]
    }
   ],
   "source": [
    "df_vals(stf_19, jb_stf_cols, df_19_schema)"
   ]
  },
  {
   "cell_type": "code",
   "execution_count": 56,
   "metadata": {},
   "outputs": [
    {
     "name": "stdout",
     "output_type": "stream",
     "text": [
      "['100 to 499 employees' '10,000 or more employees' 'Unknown'\n",
      " 'Just me - I am a freelancer, sole proprietor, etc.' '10 to 19 employees'\n",
      " '20 to 99 employees' '1,000 to 4,999 employees' '2-9 employees'\n",
      " '500 to 999 employees' '5,000 to 9,999 employees']\n"
     ]
    }
   ],
   "source": [
    "# prepare column 'OrgSize'\n",
    "stf_19['OrgSize'] = stf_19['OrgSize'].fillna('Unknown')\n",
    "stf_20['OrgSize'] = stf_20['OrgSize'].fillna('Unknown')\n",
    "print(stf_19['OrgSize'].unique())"
   ]
  },
  {
   "cell_type": "code",
   "execution_count": 57,
   "metadata": {},
   "outputs": [],
   "source": [
    "OrgSize_dict = {'Unknown': 0, \n",
    "                'Just me - I am a freelancer, sole proprietor, etc.': 1, \n",
    "                '2-9 employees': 2, \n",
    "                '2 to 9 employees': 2,\n",
    "                '10 to 19 employees': 3,\n",
    "                '20 to 99 employees': 4,\n",
    "                '100 to 499 employees': 5,\n",
    "                '500 to 999 employees': 6,\n",
    "                '1,000 to 4,999 employees': 7,\n",
    "                '5,000 to 9,999 employees': 8,\n",
    "                '10,000 or more employees': 9}"
   ]
  },
  {
   "cell_type": "code",
   "execution_count": 58,
   "metadata": {},
   "outputs": [],
   "source": [
    "stf_19['OrgSize'] = stf_19['OrgSize'].replace(OrgSize_dict)\n",
    "stf_20['OrgSize'] = stf_20['OrgSize'].replace(OrgSize_dict)"
   ]
  },
  {
   "cell_type": "code",
   "execution_count": 59,
   "metadata": {},
   "outputs": [
    {
     "name": "stdout",
     "output_type": "stream",
     "text": [
      "['Employed full-time'\n",
      " 'Independent contractor, freelancer, or self-employed'\n",
      " 'Employed part-time' nan]\n"
     ]
    }
   ],
   "source": [
    "print(stf_19['Employment'].unique())\n",
    "stf_19['Employment'] = stf_19['Employment'].fillna('Unknown')\n",
    "stf_20['Employment'] = stf_20['Employment'].fillna('Unknown')"
   ]
  },
  {
   "cell_type": "code",
   "execution_count": 60,
   "metadata": {},
   "outputs": [
    {
     "name": "stdout",
     "output_type": "stream",
     "text": [
      "(62944, 8)\n",
      "(40360, 8)\n"
     ]
    }
   ],
   "source": [
    "stf_19 = stf_19.dropna(subset = ['DevType'])\n",
    "stf_20 = stf_20.dropna(subset = ['DevType'])\n",
    "print(stf_19.shape)\n",
    "print(stf_20.shape)"
   ]
  },
  {
   "cell_type": "code",
   "execution_count": 61,
   "metadata": {},
   "outputs": [
    {
     "name": "stdout",
     "output_type": "stream",
     "text": [
      "(62720, 8)\n",
      "(38152, 8)\n"
     ]
    }
   ],
   "source": [
    "stf_19 = stf_19.dropna(subset = ['JobFactors'])\n",
    "stf_20 = stf_20.dropna(subset = ['JobFactors'])\n",
    "print(stf_19.shape)\n",
    "print(stf_20.shape)"
   ]
  },
  {
   "cell_type": "code",
   "execution_count": 62,
   "metadata": {},
   "outputs": [
    {
     "name": "stdout",
     "output_type": "stream",
     "text": [
      "Employment     100.00 %\n",
      "OrgSize     100.00 %\n",
      "DevType     100.00 %\n",
      "JobSat     99.89 %\n",
      "JobFactors     100.00 %\n",
      "WorkWeekHrs     100.00 %\n",
      "YearsCode     100.00 %\n",
      "YearsCodePro     100.00 %\n",
      "\n",
      "Employment     100.00 %\n",
      "OrgSize     100.00 %\n",
      "DevType     100.00 %\n",
      "JobSat     99.86 %\n",
      "JobFactors     100.00 %\n",
      "WorkWeekHrs     100.00 %\n",
      "YearsCode     100.00 %\n",
      "YearsCodePro     100.00 %\n"
     ]
    }
   ],
   "source": [
    "df_fullness(stf_19, jb_stf_cols)\n",
    "print()\n",
    "df_fullness(stf_20, jb_stf_cols)"
   ]
  },
  {
   "cell_type": "code",
   "execution_count": 63,
   "metadata": {},
   "outputs": [],
   "source": [
    "# explode the columns with several values\n",
    "stf_19['DevType'] = stf_19['DevType'].str.split(';', expand=False)\n",
    "stf_19 = stf_19.explode('DevType')\n",
    "stf_20['DevType'] = stf_20['DevType'].str.split(';', expand=False)\n",
    "stf_20 = stf_20.explode('DevType')"
   ]
  },
  {
   "cell_type": "code",
   "execution_count": 64,
   "metadata": {},
   "outputs": [],
   "source": [
    "# explode the columns with several values\n",
    "stf_19['JobFactors'] = stf_19['JobFactors'].str.split(';', expand=False)\n",
    "stf_19 = stf_19.explode('JobFactors')\n",
    "stf_20['JobFactors'] = stf_20['JobFactors'].str.split(';', expand=False)\n",
    "stf_20 = stf_20.explode('JobFactors')"
   ]
  },
  {
   "cell_type": "code",
   "execution_count": 65,
   "metadata": {},
   "outputs": [
    {
     "name": "stdout",
     "output_type": "stream",
     "text": [
      "Employment     100.00 %\n",
      "OrgSize     100.00 %\n",
      "DevType     100.00 %\n",
      "JobSat     99.89 %\n",
      "JobFactors     100.00 %\n",
      "WorkWeekHrs     100.00 %\n",
      "YearsCode     100.00 %\n",
      "YearsCodePro     100.00 %\n",
      "\n",
      "Employment     100.00 %\n",
      "OrgSize     100.00 %\n",
      "DevType     100.00 %\n",
      "JobSat     99.89 %\n",
      "JobFactors     100.00 %\n",
      "WorkWeekHrs     100.00 %\n",
      "YearsCode     100.00 %\n",
      "YearsCodePro     100.00 %\n"
     ]
    }
   ],
   "source": [
    "df_fullness(stf_19, jb_stf_cols)\n",
    "print()\n",
    "df_fullness(stf_20, jb_stf_cols)"
   ]
  },
  {
   "cell_type": "code",
   "execution_count": 66,
   "metadata": {},
   "outputs": [],
   "source": [
    "# put nans from job satisfaction into test dataset\n",
    "test_19 = stf_19.loc[stf_19['JobSat'].isna()]\n",
    "test_20 = stf_20.loc[stf_20['JobSat'].isna()]"
   ]
  },
  {
   "cell_type": "code",
   "execution_count": 67,
   "metadata": {},
   "outputs": [],
   "source": [
    "stf_19.drop(stf_19.loc[stf_19['JobSat'].isna()].index, inplace=True)\n",
    "stf_20.drop(stf_20.loc[stf_20['JobSat'].isna()].index, inplace=True)"
   ]
  },
  {
   "cell_type": "markdown",
   "metadata": {},
   "source": [
    "Replace job satisfaction with numbers"
   ]
  },
  {
   "cell_type": "code",
   "execution_count": 68,
   "metadata": {},
   "outputs": [
    {
     "name": "stdout",
     "output_type": "stream",
     "text": [
      "['Slightly satisfied' 'Slightly dissatisfied'\n",
      " 'Neither satisfied nor dissatisfied' 'Very satisfied' 'Very dissatisfied']\n"
     ]
    }
   ],
   "source": [
    "print(stf_19['JobSat'].unique())"
   ]
  },
  {
   "cell_type": "code",
   "execution_count": 69,
   "metadata": {},
   "outputs": [],
   "source": [
    "JobSat_dict = {'Very dissatisfied': -2,\n",
    "               'Slightly dissatisfied': -1,\n",
    "               'Neither satisfied nor dissatisfied': 0,\n",
    "               'Slightly satisfied': 1, \n",
    "               'Very satisfied': 2}\n",
    "stf_19['JobSat'] = stf_19['JobSat'].replace(JobSat_dict)\n",
    "stf_20['JobSat'] = stf_20['JobSat'].replace(JobSat_dict)"
   ]
  },
  {
   "cell_type": "code",
   "execution_count": 70,
   "metadata": {},
   "outputs": [
    {
     "data": {
      "text/plain": [
       "{'Very dissatisfied': -2,\n",
       " 'Slightly dissatisfied': -1,\n",
       " 'Neither satisfied nor dissatisfied': 0,\n",
       " 'Slightly satisfied': 1,\n",
       " 'Very satisfied': 2}"
      ]
     },
     "execution_count": 70,
     "metadata": {},
     "output_type": "execute_result"
    }
   ],
   "source": [
    "JobSat_dict"
   ]
  },
  {
   "cell_type": "code",
   "execution_count": null,
   "metadata": {},
   "outputs": [],
   "source": []
  },
  {
   "cell_type": "markdown",
   "metadata": {},
   "source": [
    "#### Build and scale featureset for ML pipeline. Use OneHotEncoder to make a numerical feature from category column."
   ]
  },
  {
   "cell_type": "code",
   "execution_count": 71,
   "metadata": {},
   "outputs": [],
   "source": [
    "feat_19 = stf_19.reset_index()\n",
    "feat_20 = stf_20.reset_index()"
   ]
  },
  {
   "cell_type": "code",
   "execution_count": 72,
   "metadata": {},
   "outputs": [],
   "source": [
    "Employment_names = stf_19['Employment'].unique()\n",
    "DevType_names = stf_19['DevType'].unique()\n",
    "JobFactors_names = stf_19['JobFactors'].unique()"
   ]
  },
  {
   "cell_type": "markdown",
   "metadata": {},
   "source": [
    "Dictionary to rename columns after OneHotEncoding"
   ]
  },
  {
   "cell_type": "code",
   "execution_count": 73,
   "metadata": {},
   "outputs": [],
   "source": [
    "def dict_names(names, col):\n",
    "    '''\n",
    "    make a dictionary from 2 arrays\n",
    "    INPUT:\n",
    "    names - array of keys\n",
    "    col - array of values\n",
    "    OUTPUT:\n",
    "    dictionary\n",
    "    '''\n",
    "    col_names = {}\n",
    "    for i in range(len(names)):\n",
    "        col_names[i] = names[i]\n",
    "    return col_names"
   ]
  },
  {
   "cell_type": "code",
   "execution_count": 74,
   "metadata": {},
   "outputs": [],
   "source": [
    "# one hot encoding of categorical columns\n",
    "from sklearn.preprocessing import OneHotEncoder\n",
    "ohe = OneHotEncoder(handle_unknown='ignore')\n",
    "feat_19 = stf_19.reset_index()\n",
    "feat_20 = stf_20.reset_index()\n",
    "encoder_df = pd.DataFrame(ohe.fit_transform(feat_19[['Employment']]).toarray())\n",
    "feat_19 = feat_19.join(encoder_df)\n",
    "employment_name = dict_names(Employment_names, 'Employment')\n",
    "feat_19.rename(columns=employment_name, inplace=True)\n",
    "# feat_19.drop(['Employment', 'DevType', 'JobFactors'], axis=1, inplace=True)\n",
    "encoder_df = pd.DataFrame(ohe.fit_transform(feat_20[['Employment']]).toarray())\n",
    "feat_20 = feat_20.join(encoder_df)\n",
    "feat_20.rename(columns=employment_name, inplace=True)\n",
    "encoder_df = pd.DataFrame(ohe.fit_transform(feat_19[['DevType']]).toarray())\n",
    "feat_19 = feat_19.join(encoder_df)\n",
    "devtype_name = dict_names(DevType_names, 'DevType')\n",
    "feat_19.rename(columns=devtype_name, inplace=True)\n",
    "encoder_df = pd.DataFrame(ohe.fit_transform(feat_20[['DevType']]).toarray())\n",
    "feat_20 = feat_20.join(encoder_df)\n",
    "feat_20.rename(columns=devtype_name, inplace=True)\n",
    "encoder_df = pd.DataFrame(ohe.fit_transform(feat_19[['JobFactors']]).toarray())\n",
    "feat_19 = feat_19.join(encoder_df)\n",
    "devtype_name = dict_names(DevType_names, 'JobFactors')\n",
    "feat_19.rename(columns=devtype_name, inplace=True)\n",
    "encoder_df = pd.DataFrame(ohe.fit_transform(feat_20[['JobFactors']]).toarray())\n",
    "feat_20 = feat_20.join(encoder_df)\n",
    "feat_20.rename(columns=devtype_name, inplace=True)\n",
    "feat_19.drop(['Employment', 'DevType', 'JobFactors'], axis=1, inplace=True)\n",
    "feat_20.drop(['Employment', 'DevType', 'JobFactors'], axis=1, inplace=True)\n",
    "feat_19 = feat_19.drop(columns=['index'])\n",
    "feat_20 = feat_20.drop(columns=['index'])"
   ]
  },
  {
   "cell_type": "code",
   "execution_count": 75,
   "metadata": {},
   "outputs": [],
   "source": [
    "# define target labels\n",
    "y_19 = feat_19['JobSat']\n",
    "y_20 = feat_20['JobSat']"
   ]
  },
  {
   "cell_type": "code",
   "execution_count": 76,
   "metadata": {},
   "outputs": [],
   "source": [
    "# scale featureset\n",
    "from sklearn.preprocessing import MinMaxScaler\n",
    "scaler = MinMaxScaler() \n",
    "arr_scaled_19 = scaler.fit_transform(feat_19) \n",
    "feat_19 = pd.DataFrame(arr_scaled_19, columns=feat_19.columns,index=feat_19.index)\n",
    "arr_scaled_20 = scaler.fit_transform(feat_20) \n",
    "feat_20 = pd.DataFrame(arr_scaled_20, columns=feat_20.columns,index=feat_20.index)"
   ]
  },
  {
   "cell_type": "code",
   "execution_count": 77,
   "metadata": {},
   "outputs": [],
   "source": [
    "# display the results of ML algorithms\n",
    "def display_results(y_true, y_pred):\n",
    "    '''\n",
    "    display results of machine learning algorithms\n",
    "    INPUT:\n",
    "    y_true - original target data\n",
    "    y_pred - predicted data\n",
    "    OUTPUT:\n",
    "    results for f1 score\n",
    "    '''\n",
    "    print('f1 macro = ', f1_score(y_true, y_pred, average='macro'))\n",
    "    print('f1 micro = ', f1_score(y_true, y_pred, average='micro'))\n",
    "    print('f1 weighted = ', f1_score(y_true, y_pred, average='weighted'))\n",
    "    print('f1 = ', f1_score(y_true, y_pred, average=None))"
   ]
  },
  {
   "cell_type": "code",
   "execution_count": 78,
   "metadata": {},
   "outputs": [],
   "source": [
    "# define target labels\n",
    "feat_19 = feat_19.drop(columns=['JobSat'])\n",
    "feat_20 = feat_20.drop(columns=['JobSat'])"
   ]
  },
  {
   "cell_type": "markdown",
   "metadata": {},
   "source": [
    "### Data processing\n",
    "#### Train different ML Classifier: RandomForestClassifier, DecisionTreeClassifier, LinearSVC and compare the results"
   ]
  },
  {
   "cell_type": "code",
   "execution_count": 79,
   "metadata": {},
   "outputs": [],
   "source": [
    "# Split initial data into train and test \n",
    "X_19_train, X_19_test, y_19_train, y_19_test = train_test_split(feat_19, y_19, test_size = .25, random_state=42)\n",
    "X_20_train, X_20_test, y_20_train, y_20_test = train_test_split(feat_20, y_20, test_size = .25, random_state=42)"
   ]
  },
  {
   "cell_type": "code",
   "execution_count": 80,
   "metadata": {},
   "outputs": [],
   "source": [
    "# Random forest classifier\n",
    "from sklearn.ensemble import RandomForestClassifier\n",
    "rf_clf_19 = RandomForestClassifier(random_state=42)\n",
    "rf_clf_19.fit(X_19_train, y_19_train)\n",
    "y_test_preds_19 = rf_clf_19.predict(X_19_test)"
   ]
  },
  {
   "cell_type": "code",
   "execution_count": 81,
   "metadata": {},
   "outputs": [
    {
     "name": "stdout",
     "output_type": "stream",
     "text": [
      "f1 macro =  0.4184248442220058\n",
      "f1 micro =  0.49113425861541454\n",
      "f1 weighted =  0.4791882713888096\n",
      "f1 =  [0.29845673 0.35970606 0.3377042  0.55313302 0.54312422]\n"
     ]
    }
   ],
   "source": [
    "display_results(y_19_test, y_test_preds_19)"
   ]
  },
  {
   "cell_type": "code",
   "execution_count": 82,
   "metadata": {},
   "outputs": [],
   "source": [
    "rf_clf_20 = RandomForestClassifier(random_state=42)\n",
    "rf_clf_20.fit(X_20_train, y_20_train)\n",
    "y_test_preds_20 = rf_clf_20.predict(X_20_test)"
   ]
  },
  {
   "cell_type": "code",
   "execution_count": 83,
   "metadata": {},
   "outputs": [
    {
     "name": "stdout",
     "output_type": "stream",
     "text": [
      "f1 macro =  0.4786328062795281\n",
      "f1 micro =  0.5289552106035671\n",
      "f1 weighted =  0.520439219046987\n",
      "f1 =  [0.38953145 0.43718515 0.40903673 0.56228905 0.59512165]\n"
     ]
    }
   ],
   "source": [
    "display_results(y_20_test, y_test_preds_20)"
   ]
  },
  {
   "cell_type": "code",
   "execution_count": null,
   "metadata": {},
   "outputs": [],
   "source": []
  },
  {
   "cell_type": "code",
   "execution_count": 84,
   "metadata": {},
   "outputs": [],
   "source": [
    "# decision tree classifier\n",
    "from sklearn.tree import DecisionTreeClassifier\n",
    "dtree_19 = DecisionTreeClassifier(random_state=42)\n",
    "dtree_19.fit(X_19_train, y_19_train) \n",
    "y_test_preds_19 = dtree_19.predict(X_19_test)"
   ]
  },
  {
   "cell_type": "code",
   "execution_count": 85,
   "metadata": {},
   "outputs": [
    {
     "name": "stdout",
     "output_type": "stream",
     "text": [
      "f1 macro =  0.6402356254624381\n",
      "f1 micro =  0.667169638138681\n",
      "f1 weighted =  0.6680497650938511\n",
      "f1 =  [0.58930535 0.60277815 0.60703597 0.69994121 0.70211745]\n"
     ]
    }
   ],
   "source": [
    "display_results(y_19_test, y_test_preds_19)"
   ]
  },
  {
   "cell_type": "code",
   "execution_count": 86,
   "metadata": {},
   "outputs": [],
   "source": [
    "dtree_20 = DecisionTreeClassifier(random_state=42)\n",
    "dtree_20.fit(X_20_train, y_20_train) \n",
    "y_test_preds_20 = dtree_20.predict(X_20_test)"
   ]
  },
  {
   "cell_type": "code",
   "execution_count": 87,
   "metadata": {},
   "outputs": [
    {
     "name": "stdout",
     "output_type": "stream",
     "text": [
      "f1 macro =  0.6998052800918325\n",
      "f1 micro =  0.7186207356669483\n",
      "f1 weighted =  0.7193619849756344\n",
      "f1 =  [0.65688098 0.67590675 0.6728149  0.73366852 0.75975524]\n"
     ]
    }
   ],
   "source": [
    "display_results(y_20_test, y_test_preds_20)"
   ]
  },
  {
   "cell_type": "code",
   "execution_count": null,
   "metadata": {},
   "outputs": [],
   "source": []
  },
  {
   "cell_type": "code",
   "execution_count": 88,
   "metadata": {},
   "outputs": [
    {
     "name": "stdout",
     "output_type": "stream",
     "text": [
      "[LibLinear]"
     ]
    }
   ],
   "source": [
    "from sklearn.svm import LinearSVC\n",
    "svm_19 = LinearSVC(random_state=42, tol=1e-5, verbose=3)\n",
    "svm_19.fit(X_19_train, y_19_train) \n",
    "y_test_preds = svm_19.predict(X_19_test)"
   ]
  },
  {
   "cell_type": "code",
   "execution_count": 89,
   "metadata": {},
   "outputs": [
    {
     "name": "stdout",
     "output_type": "stream",
     "text": [
      "f1 macro =  0.6402356254624381\n",
      "f1 micro =  0.667169638138681\n",
      "f1 weighted =  0.6680497650938511\n",
      "f1 =  [0.58930535 0.60277815 0.60703597 0.69994121 0.70211745]\n"
     ]
    }
   ],
   "source": [
    "display_results(y_19_test, y_test_preds_19)"
   ]
  },
  {
   "cell_type": "code",
   "execution_count": 90,
   "metadata": {},
   "outputs": [
    {
     "name": "stdout",
     "output_type": "stream",
     "text": [
      "[LibLinear]"
     ]
    }
   ],
   "source": [
    "svm_20 = LinearSVC(random_state=42, tol=1e-5, verbose=3)\n",
    "svm_20.fit(X_20_train, y_20_train) \n",
    "y_test_preds = svm_20.predict(X_20_test)"
   ]
  },
  {
   "cell_type": "code",
   "execution_count": 98,
   "metadata": {},
   "outputs": [
    {
     "name": "stdout",
     "output_type": "stream",
     "text": [
      "f1 macro =  0.6998052800918325\n",
      "f1 micro =  0.7186207356669483\n",
      "f1 weighted =  0.7193619849756344\n",
      "f1 =  [0.65688098 0.67590675 0.6728149  0.73366852 0.75975524]\n"
     ]
    }
   ],
   "source": [
    "display_results(y_20_test, y_test_preds_20)"
   ]
  },
  {
   "cell_type": "markdown",
   "metadata": {},
   "source": [
    "If we compare results from different ML algorithms, we can see that the best results can be achieved using DecisionTreeClassifier, f1 score for each of 5 output classes: \n",
    "f1 =  [0.58930535 0.60277815 0.60703597 0.69994121 0.70211745] for dataset 2019 and  \n",
    "f1 =  [0.65688098 0.67590675 0.6728149  0.73366852 0.75975524] for dataset 2020."
   ]
  },
  {
   "cell_type": "code",
   "execution_count": null,
   "metadata": {},
   "outputs": [],
   "source": []
  },
  {
   "cell_type": "markdown",
   "metadata": {},
   "source": [
    "### 2. Define factors which are mostly impact the job satisfaction "
   ]
  },
  {
   "cell_type": "code",
   "execution_count": 99,
   "metadata": {},
   "outputs": [],
   "source": [
    "features = feat_19.columns"
   ]
  },
  {
   "cell_type": "code",
   "execution_count": 100,
   "metadata": {},
   "outputs": [
    {
     "data": {
      "text/plain": [
       "array([0.12666522, 0.12473117, 0.18493538, 0.16330535, 0.01250551,\n",
       "       0.0072704 , 0.00996753, 0.00588052, 0.00737483, 0.00888749,\n",
       "       0.00758486, 0.00772081, 0.01052892, 0.007629  , 0.02359111,\n",
       "       0.01514491, 0.00916834, 0.01712061, 0.02748684, 0.00530358,\n",
       "       0.0152371 , 0.00439675, 0.00778089, 0.00424767, 0.00583835,\n",
       "       0.00092395, 0.00469565, 0.0039942 , 0.00189998, 0.00530701,\n",
       "       0.00826455, 0.00807838, 0.01380558, 0.01930089, 0.01749601,\n",
       "       0.01341278, 0.02093176, 0.01188275, 0.02053898, 0.01775182,\n",
       "       0.01141256])"
      ]
     },
     "execution_count": 100,
     "metadata": {},
     "output_type": "execute_result"
    }
   ],
   "source": [
    "dtree_19_feature_importance = dtree_19.feature_importances_\n",
    "dtree_19_feature_importance"
   ]
  },
  {
   "cell_type": "code",
   "execution_count": 101,
   "metadata": {},
   "outputs": [
    {
     "data": {
      "text/plain": [
       "array([0.13725254, 0.12408989, 0.1774684 , 0.19933572, 0.01250596,\n",
       "       0.00661824, 0.01143149, 0.00482577, 0.00640839, 0.00775616,\n",
       "       0.0055567 , 0.00535975, 0.00874875, 0.00644043, 0.02062097,\n",
       "       0.01339761, 0.00846063, 0.01537301, 0.02286512, 0.00419373,\n",
       "       0.01409799, 0.00371526, 0.00642091, 0.00319152, 0.00428454,\n",
       "       0.00082285, 0.00316916, 0.00391668, 0.00120426, 0.00554497,\n",
       "       0.00720521, 0.01091307, 0.01068641, 0.0182875 , 0.01451347,\n",
       "       0.01198183, 0.01914507, 0.01822988, 0.01872947, 0.01499257,\n",
       "       0.01023813])"
      ]
     },
     "execution_count": 101,
     "metadata": {},
     "output_type": "execute_result"
    }
   ],
   "source": [
    "dtree_20_feature_importance = dtree_20.feature_importances_\n",
    "dtree_20_feature_importance"
   ]
  },
  {
   "cell_type": "code",
   "execution_count": 102,
   "metadata": {},
   "outputs": [
    {
     "data": {
      "image/png": "[encoded data removed]",
      "text/plain": [
       "<Figure size 1080x720 with 1 Axes>"
      ]
     },
     "metadata": {
      "needs_background": "light"
     },
     "output_type": "display_data"
    }
   ],
   "source": [
    "sorted_idx = dtree_19_feature_importance.argsort()\n",
    "fig, ax = plt.subplots(figsize=(15, 10))\n",
    "plt.barh(features[sorted_idx], dtree_19_feature_importance[sorted_idx])\n",
    "plt.xlabel(\"Feature Importance\")\n",
    "plt.show()"
   ]
  },
  {
   "cell_type": "code",
   "execution_count": 103,
   "metadata": {},
   "outputs": [
    {
     "data": {
      "image/png": "[encoded data removed]",
      "text/plain": [
       "<Figure size 1080x720 with 1 Axes>"
      ]
     },
     "metadata": {
      "needs_background": "light"
     },
     "output_type": "display_data"
    }
   ],
   "source": [
    "sorted_idx = dtree_20_feature_importance.argsort()\n",
    "fig, ax = plt.subplots(figsize=(15, 10))\n",
    "plt.barh(features[sorted_idx], dtree_20_feature_importance[sorted_idx])\n",
    "plt.xlabel(\"Feature Importance\")\n",
    "plt.show()"
   ]
  },
  {
   "cell_type": "code",
   "execution_count": 104,
   "metadata": {},
   "outputs": [
    {
     "data": {
      "text/plain": [
       "array([0.12613184, 0.18828434, 0.23912331, 0.23091212, 0.00234027,\n",
       "       0.00165743, 0.00195368, 0.00463861, 0.00598767, 0.00395097,\n",
       "       0.00674839, 0.00612906, 0.00753691, 0.00568491, 0.01324748,\n",
       "       0.00946775, 0.00654559, 0.01191696, 0.01428955, 0.00450886,\n",
       "       0.0087626 , 0.00441014, 0.00549175, 0.00379786, 0.00380286,\n",
       "       0.00118778, 0.00410298, 0.00230575, 0.00147892, 0.00655088,\n",
       "       0.00417923, 0.00542105, 0.00440027, 0.00858448, 0.00576491,\n",
       "       0.00565755, 0.00866204, 0.00597798, 0.00762197, 0.0062461 ,\n",
       "       0.00453717])"
      ]
     },
     "execution_count": 104,
     "metadata": {},
     "output_type": "execute_result"
    }
   ],
   "source": [
    "rf_clf_20_feature_importance = rf_clf_20.feature_importances_\n",
    "rf_clf_20_feature_importance"
   ]
  },
  {
   "cell_type": "markdown",
   "metadata": {},
   "source": [
    "#### Most important factors related to job satisfaction are: working hours per week, years of coding, size of organization (or freelancer)."
   ]
  },
  {
   "cell_type": "code",
   "execution_count": null,
   "metadata": {},
   "outputs": [],
   "source": []
  },
  {
   "cell_type": "markdown",
   "metadata": {},
   "source": [
    "### 3. Tendencies and trends on IT developing market, most popular languages and platforms?"
   ]
  },
  {
   "cell_type": "markdown",
   "metadata": {},
   "source": [
    "What languages, databases od frameworks are most popular in 2019 and 2020?"
   ]
  },
  {
   "cell_type": "code",
   "execution_count": 105,
   "metadata": {},
   "outputs": [],
   "source": [
    "# potential columns for analysis\n",
    "cols = ['LanguageWorkedWith',\n",
    "'LanguageDesireNextYear',\n",
    "'DatabaseWorkedWith',\n",
    "'DatabaseDesireNextYear',\n",
    "'PlatformWorkedWith',\n",
    "'PlatformDesireNextYear',\n",
    "'MiscTechWorkedWith',\n",
    "'MiscTechDesireNextYear']"
   ]
  },
  {
   "cell_type": "code",
   "execution_count": 106,
   "metadata": {},
   "outputs": [],
   "source": [
    "# make initial featureset\n",
    "trends_19 = df_19[cols]\n",
    "trends_20 = df_20[cols]"
   ]
  },
  {
   "cell_type": "code",
   "execution_count": 107,
   "metadata": {},
   "outputs": [
    {
     "name": "stdout",
     "output_type": "stream",
     "text": [
      "LanguageWorkedWith     98.52 %\n",
      "LanguageDesireNextYear     94.61 %\n",
      "DatabaseWorkedWith     85.50 %\n",
      "DatabaseDesireNextYear     77.76 %\n",
      "PlatformWorkedWith     90.79 %\n",
      "PlatformDesireNextYear     87.13 %\n",
      "MiscTechWorkedWith     67.03 %\n",
      "MiscTechDesireNextYear     72.57 %\n",
      "LanguageWorkedWith     89.01 %\n",
      "LanguageDesireNextYear     83.94 %\n",
      "DatabaseWorkedWith     76.83 %\n",
      "DatabaseDesireNextYear     68.35 %\n",
      "PlatformWorkedWith     83.52 %\n",
      "PlatformDesireNextYear     78.50 %\n",
      "MiscTechWorkedWith     62.52 %\n",
      "MiscTechDesireNextYear     65.73 %\n"
     ]
    }
   ],
   "source": [
    "df_fullness(trends_19, cols)\n",
    "df_fullness(trends_20, cols)"
   ]
  },
  {
   "cell_type": "code",
   "execution_count": 108,
   "metadata": {},
   "outputs": [
    {
     "data": {
      "text/plain": [
       "(88364, 8)"
      ]
     },
     "execution_count": 108,
     "metadata": {},
     "output_type": "execute_result"
    }
   ],
   "source": [
    "trends_19.dropna()\n",
    "trends_19.shape"
   ]
  },
  {
   "cell_type": "code",
   "execution_count": 109,
   "metadata": {},
   "outputs": [],
   "source": [
    "# trends and tendencies in programming languages\n",
    "trends_19_lang = trends_19['LanguageWorkedWith'].str.split(';', expand=False)\n",
    "trends_19_lang = trends_19_lang.explode('LanguageWorkedWith').value_counts()\n",
    "trends_20_lang = trends_20['LanguageWorkedWith'].str.split(';', expand=False)\n",
    "trends_20_lang = trends_20_lang.explode('LanguageWorkedWith').value_counts()"
   ]
  },
  {
   "cell_type": "code",
   "execution_count": 110,
   "metadata": {},
   "outputs": [],
   "source": [
    "trends_19_lang = trends_19_lang/trends_19_lang.sum()*100\n",
    "trends_20_lang = trends_20_lang/trends_20_lang.sum()*100\n",
    "plot_data_1 = pd.DataFrame({'Languages': trends_19_lang.index, '2019': trends_19_lang.values})\n",
    "plot_data_2 = pd.DataFrame({'Languages': trends_20_lang.index, '2020': trends_20_lang.values})\n",
    "plot_data = pd.merge(plot_data_1, plot_data_2, how=\"outer\", left_on='Languages', right_on='Languages')"
   ]
  },
  {
   "cell_type": "code",
   "execution_count": 111,
   "metadata": {},
   "outputs": [],
   "source": [
    "plot_data = plot_data[:15]"
   ]
  },
  {
   "cell_type": "code",
   "execution_count": 112,
   "metadata": {},
   "outputs": [
    {
     "data": {
      "text/html": [
       "<div>\n",
       "<style scoped>\n",
       "    .dataframe tbody tr th:only-of-type {\n",
       "        vertical-align: middle;\n",
       "    }\n",
       "\n",
       "    .dataframe tbody tr th {\n",
       "        vertical-align: top;\n",
       "    }\n",
       "\n",
       "    .dataframe thead th {\n",
       "        text-align: right;\n",
       "    }\n",
       "</style>\n",
       "<table border=\"1\" class=\"dataframe\">\n",
       "  <thead>\n",
       "    <tr style=\"text-align: right;\">\n",
       "      <th></th>\n",
       "      <th>Languages</th>\n",
       "      <th>2019</th>\n",
       "      <th>2020</th>\n",
       "    </tr>\n",
       "  </thead>\n",
       "  <tbody>\n",
       "    <tr>\n",
       "      <th>0</th>\n",
       "      <td>JavaScript</td>\n",
       "      <td>13.441409</td>\n",
       "      <td>13.482089</td>\n",
       "    </tr>\n",
       "    <tr>\n",
       "      <th>1</th>\n",
       "      <td>HTML/CSS</td>\n",
       "      <td>12.589958</td>\n",
       "      <td>12.564265</td>\n",
       "    </tr>\n",
       "    <tr>\n",
       "      <th>2</th>\n",
       "      <td>SQL</td>\n",
       "      <td>10.789990</td>\n",
       "      <td>10.906957</td>\n",
       "    </tr>\n",
       "    <tr>\n",
       "      <th>3</th>\n",
       "      <td>Python</td>\n",
       "      <td>8.282915</td>\n",
       "      <td>8.785337</td>\n",
       "    </tr>\n",
       "    <tr>\n",
       "      <th>4</th>\n",
       "      <td>Java</td>\n",
       "      <td>8.151132</td>\n",
       "      <td>8.012414</td>\n",
       "    </tr>\n",
       "    <tr>\n",
       "      <th>5</th>\n",
       "      <td>Bash/Shell/PowerShell</td>\n",
       "      <td>7.262225</td>\n",
       "      <td>6.593009</td>\n",
       "    </tr>\n",
       "    <tr>\n",
       "      <th>6</th>\n",
       "      <td>C#</td>\n",
       "      <td>6.149036</td>\n",
       "      <td>6.262452</td>\n",
       "    </tr>\n",
       "    <tr>\n",
       "      <th>7</th>\n",
       "      <td>PHP</td>\n",
       "      <td>5.225413</td>\n",
       "      <td>5.207042</td>\n",
       "    </tr>\n",
       "    <tr>\n",
       "      <th>8</th>\n",
       "      <td>C++</td>\n",
       "      <td>4.663337</td>\n",
       "      <td>4.761540</td>\n",
       "    </tr>\n",
       "    <tr>\n",
       "      <th>9</th>\n",
       "      <td>TypeScript</td>\n",
       "      <td>4.199470</td>\n",
       "      <td>5.056916</td>\n",
       "    </tr>\n",
       "    <tr>\n",
       "      <th>10</th>\n",
       "      <td>C</td>\n",
       "      <td>4.094409</td>\n",
       "      <td>4.335544</td>\n",
       "    </tr>\n",
       "    <tr>\n",
       "      <th>11</th>\n",
       "      <td>Other(s):</td>\n",
       "      <td>1.799055</td>\n",
       "      <td>NaN</td>\n",
       "    </tr>\n",
       "    <tr>\n",
       "      <th>12</th>\n",
       "      <td>Ruby</td>\n",
       "      <td>1.663161</td>\n",
       "      <td>1.406169</td>\n",
       "    </tr>\n",
       "    <tr>\n",
       "      <th>13</th>\n",
       "      <td>Go</td>\n",
       "      <td>1.638494</td>\n",
       "      <td>1.750310</td>\n",
       "    </tr>\n",
       "    <tr>\n",
       "      <th>14</th>\n",
       "      <td>Assembly</td>\n",
       "      <td>1.326281</td>\n",
       "      <td>1.232009</td>\n",
       "    </tr>\n",
       "  </tbody>\n",
       "</table>\n",
       "</div>"
      ],
      "text/plain": [
       "                Languages       2019       2020\n",
       "0              JavaScript  13.441409  13.482089\n",
       "1                HTML/CSS  12.589958  12.564265\n",
       "2                     SQL  10.789990  10.906957\n",
       "3                  Python   8.282915   8.785337\n",
       "4                    Java   8.151132   8.012414\n",
       "5   Bash/Shell/PowerShell   7.262225   6.593009\n",
       "6                      C#   6.149036   6.262452\n",
       "7                     PHP   5.225413   5.207042\n",
       "8                     C++   4.663337   4.761540\n",
       "9              TypeScript   4.199470   5.056916\n",
       "10                      C   4.094409   4.335544\n",
       "11              Other(s):   1.799055        NaN\n",
       "12                   Ruby   1.663161   1.406169\n",
       "13                     Go   1.638494   1.750310\n",
       "14               Assembly   1.326281   1.232009"
      ]
     },
     "execution_count": 112,
     "metadata": {},
     "output_type": "execute_result"
    }
   ],
   "source": [
    "plot_data"
   ]
  },
  {
   "cell_type": "code",
   "execution_count": 113,
   "metadata": {},
   "outputs": [
    {
     "data": {
      "text/plain": [
       "<AxesSubplot:ylabel='Languages'>"
      ]
     },
     "execution_count": 113,
     "metadata": {},
     "output_type": "execute_result"
    },
    {
     "data": {
      "image/png": "[encoded data removed]",
      "text/plain": [
       "<Figure size 432x288 with 1 Axes>"
      ]
     },
     "metadata": {
      "needs_background": "light"
     },
     "output_type": "display_data"
    }
   ],
   "source": [
    "plot_data.plot.barh(x='Languages')"
   ]
  },
  {
   "cell_type": "code",
   "execution_count": 114,
   "metadata": {},
   "outputs": [],
   "source": [
    "# trends and tendencies in databases\n",
    "trends_19_db = trends_19['DatabaseWorkedWith'].str.split(';', expand=False)\n",
    "trends_19_db = trends_19_db.explode('DatabaseWorkedWith').value_counts()\n",
    "trends_20_db = trends_20['DatabaseWorkedWith'].str.split(';', expand=False)\n",
    "trends_20_db = trends_20_db.explode('DatabaseWorkedWith').value_counts()"
   ]
  },
  {
   "cell_type": "code",
   "execution_count": 115,
   "metadata": {},
   "outputs": [],
   "source": [
    "trends_19_db = trends_19_db/trends_19_db.sum()*100\n",
    "trends_20_db = trends_20_db/trends_20_db.sum()*100\n",
    "plot_data_1 = pd.DataFrame({'Databases': trends_19_db.index, '2019': trends_19_db.values})\n",
    "plot_data_2 = pd.DataFrame({'Databases': trends_20_db.index, '2020': trends_20_db.values})\n",
    "plot_data = pd.merge(plot_data_1, plot_data_2, how=\"outer\", left_on='Databases', right_on='Databases')"
   ]
  },
  {
   "cell_type": "code",
   "execution_count": 116,
   "metadata": {},
   "outputs": [],
   "source": [
    "plot_data = plot_data[:15]"
   ]
  },
  {
   "cell_type": "code",
   "execution_count": 117,
   "metadata": {},
   "outputs": [
    {
     "data": {
      "text/plain": [
       "<AxesSubplot:ylabel='Databases'>"
      ]
     },
     "execution_count": 117,
     "metadata": {},
     "output_type": "execute_result"
    },
    {
     "data": {
      "image/png": "[encoded data removed]",
      "text/plain": [
       "<Figure size 432x288 with 1 Axes>"
      ]
     },
     "metadata": {
      "needs_background": "light"
     },
     "output_type": "display_data"
    }
   ],
   "source": [
    "plot_data.plot.barh(x='Databases')"
   ]
  },
  {
   "cell_type": "code",
   "execution_count": 118,
   "metadata": {},
   "outputs": [],
   "source": [
    "# trends and tendencies in platforms\n",
    "trends_19_plt = trends_19['PlatformWorkedWith'].str.split(';', expand=False)\n",
    "trends_19_plt = trends_19_plt.explode('PlatformWorkedWith').value_counts()\n",
    "trends_20_plt = trends_20['PlatformWorkedWith'].str.split(';', expand=False)\n",
    "trends_20_plt = trends_20_plt.explode('PlatformWorkedWith').value_counts()"
   ]
  },
  {
   "cell_type": "code",
   "execution_count": 119,
   "metadata": {},
   "outputs": [],
   "source": [
    "trends_19_plt = trends_19_plt/trends_19_plt.sum()*100\n",
    "trends_20_plt = trends_20_plt/trends_20_plt.sum()*100\n",
    "plot_data_1 = pd.DataFrame({'Platforms': trends_19_plt.index, '2019': trends_19_plt.values})\n",
    "plot_data_2 = pd.DataFrame({'Platforms': trends_20_plt.index, '2020': trends_20_plt.values})\n",
    "plot_data = pd.merge(plot_data_1, plot_data_2, how=\"outer\", left_on='Platforms', right_on='Platforms')"
   ]
  },
  {
   "cell_type": "code",
   "execution_count": 120,
   "metadata": {},
   "outputs": [],
   "source": [
    "plot_data = plot_data[:15]"
   ]
  },
  {
   "cell_type": "code",
   "execution_count": 121,
   "metadata": {},
   "outputs": [
    {
     "data": {
      "text/plain": [
       "<AxesSubplot:ylabel='Platforms'>"
      ]
     },
     "execution_count": 121,
     "metadata": {},
     "output_type": "execute_result"
    },
    {
     "data": {
      "image/png": "[encoded data removed]",
      "text/plain": [
       "<Figure size 432x288 with 1 Axes>"
      ]
     },
     "metadata": {
      "needs_background": "light"
     },
     "output_type": "display_data"
    }
   ],
   "source": [
    "plot_data.plot.barh(x='Platforms')"
   ]
  },
  {
   "cell_type": "code",
   "execution_count": 122,
   "metadata": {},
   "outputs": [],
   "source": [
    "# trends and tendencies in technologies\n",
    "trends_19_tec = trends_19['MiscTechWorkedWith'].str.split(';', expand=False)\n",
    "trends_19_tec = trends_19_tec.explode('MiscTechWorkedWith').value_counts()\n",
    "trends_20_tec = trends_20['MiscTechWorkedWith'].str.split(';', expand=False)\n",
    "trends_20_tec = trends_20_tec.explode('MiscTechWorkedWith').value_counts()"
   ]
  },
  {
   "cell_type": "code",
   "execution_count": 123,
   "metadata": {},
   "outputs": [],
   "source": [
    "trends_19_tec = trends_19_tec/trends_19_tec.sum()*100\n",
    "trends_20_tec = trends_20_tec/trends_20_tec.sum()*100\n",
    "plot_data_1 = pd.DataFrame({'Technologies': trends_19_tec.index, '2019': trends_19_tec.values})\n",
    "plot_data_2 = pd.DataFrame({'Technologies': trends_20_tec.index, '2020': trends_20_tec.values})\n",
    "plot_data = pd.merge(plot_data_1, plot_data_2, how=\"outer\", left_on='Technologies', right_on='Technologies')"
   ]
  },
  {
   "cell_type": "code",
   "execution_count": 124,
   "metadata": {},
   "outputs": [],
   "source": [
    "plot_data = plot_data[:15]"
   ]
  },
  {
   "cell_type": "code",
   "execution_count": 125,
   "metadata": {},
   "outputs": [
    {
     "data": {
      "text/plain": [
       "<AxesSubplot:ylabel='Technologies'>"
      ]
     },
     "execution_count": 125,
     "metadata": {},
     "output_type": "execute_result"
    },
    {
     "data": {
      "image/png": "[encoded data removed]",
      "text/plain": [
       "<Figure size 432x288 with 1 Axes>"
      ]
     },
     "metadata": {
      "needs_background": "light"
     },
     "output_type": "display_data"
    }
   ],
   "source": [
    "plot_data.plot.barh(x='Technologies')"
   ]
  },
  {
   "cell_type": "markdown",
   "metadata": {},
   "source": [
    "### Conclusion\n",
    "We can see that Java Script, Python and SQL are most popular programming languages. Also we highlight that Windows and linux are still popular but Android is popular too. When we are talking about databases - SQL databases are still the leaders of market, but NO SQL databasese improving their positions. Follow the Java Script, Node js technology is most popular."
   ]
  },
  {
   "cell_type": "code",
   "execution_count": null,
   "metadata": {},
   "outputs": [],
   "source": []
  }
 ],
 "metadata": {
  "kernelspec": {
   "display_name": "Python 3",
   "language": "python",
   "name": "python3"
  },
  "language_info": {
   "codemirror_mode": {
    "name": "ipython",
    "version": 3
   },
   "file_extension": ".py",
   "mimetype": "text/x-python",
   "name": "python",
   "nbconvert_exporter": "python",
   "pygments_lexer": "ipython3",
   "version": "3.8.5"
  }
 },
 "nbformat": 4,
 "nbformat_minor": 4
}
